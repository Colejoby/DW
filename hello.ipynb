{
  "nbformat": 4,
  "nbformat_minor": 0,
  "metadata": {
    "colab": {
      "name": "Untitled0.ipynb",
      "provenance": [],
      "include_colab_link": true
    },
    "kernelspec": {
      "name": "python3",
      "display_name": "Python 3"
    }
  },
  "cells": [
    {
      "cell_type": "markdown",
      "metadata": {
        "id": "view-in-github",
        "colab_type": "text"
      },
      "source": [
        "<a href=\"https://colab.research.google.com/github/Colejoby/DW/blob/master/hello.ipynb\" target=\"_parent\"><img src=\"https://colab.research.google.com/assets/colab-badge.svg\" alt=\"Open In Colab\"/></a>"
      ]
    },
    {
      "cell_type": "code",
      "metadata": {
        "id": "4SBwAaziiQJU",
        "colab_type": "code",
        "colab": {}
      },
      "source": [
        ""
      ],
      "execution_count": 0,
      "outputs": []
    },
    {
      "cell_type": "markdown",
      "metadata": {
        "id": "x4twIJVIiRNP",
        "colab_type": "text"
      },
      "source": [
        "# Hello Dude!\n",
        "## How to A\n",
        "### Shifit is missing\n",
        "This is what the hack\n"
      ]
    },
    {
      "cell_type": "code",
      "metadata": {
        "id": "k34uFbQeiZio",
        "colab_type": "code",
        "colab": {
          "base_uri": "https://localhost:8080/",
          "height": 34
        },
        "outputId": "61475488-b3b0-46fe-bca1-834a507d9b58"
      },
      "source": [
        "print(\"Hello dude\")"
      ],
      "execution_count": 1,
      "outputs": [
        {
          "output_type": "stream",
          "text": [
            "Hello dude\n"
          ],
          "name": "stdout"
        }
      ]
    },
    {
      "cell_type": "code",
      "metadata": {
        "id": "18P27wI7i2jz",
        "colab_type": "code",
        "colab": {}
      },
      "source": [
        ""
      ],
      "execution_count": 0,
      "outputs": []
    },
    {
      "cell_type": "markdown",
      "metadata": {
        "id": "gE4uCfHFjZA3",
        "colab_type": "text"
      },
      "source": [
        "#Declare Variable\n",
        "###how to declare variable in PyThon\n"
      ]
    },
    {
      "cell_type": "code",
      "metadata": {
        "id": "jOckgWABjhy2",
        "colab_type": "code",
        "colab": {
          "base_uri": "https://localhost:8080/",
          "height": 34
        },
        "outputId": "e1c3e1b9-a650-4c09-82b6-fecbdb399f3d"
      },
      "source": [
        "score = 100\n",
        "name = \"Jirawat\"\n",
        "print(\" Name is \" + name + \" score is \"+ str(score))"
      ],
      "execution_count": 8,
      "outputs": [
        {
          "output_type": "stream",
          "text": [
            " Name is Jirawat score is 100\n"
          ],
          "name": "stdout"
        }
      ]
    },
    {
      "cell_type": "code",
      "metadata": {
        "id": "yYgllk1mjx_V",
        "colab_type": "code",
        "colab": {
          "base_uri": "https://localhost:8080/",
          "height": 34
        },
        "outputId": "38e74e69-000f-47a6-fe84-e626d8cae112"
      },
      "source": [
        "a = 2\n",
        "b = 3\n",
        "c = a * b\n",
        "print(c)"
      ],
      "execution_count": 7,
      "outputs": [
        {
          "output_type": "stream",
          "text": [
            "6\n"
          ],
          "name": "stdout"
        }
      ]
    },
    {
      "cell_type": "code",
      "metadata": {
        "id": "ESuKmYerkUlm",
        "colab_type": "code",
        "colab": {}
      },
      "source": [
        ""
      ],
      "execution_count": 0,
      "outputs": []
    },
    {
      "cell_type": "markdown",
      "metadata": {
        "id": "oAlmSHuqmz4n",
        "colab_type": "text"
      },
      "source": [
        "#List\n",
        "###How to use list PyThon\n"
      ]
    },
    {
      "cell_type": "code",
      "metadata": {
        "id": "k3mj0dLQm6Mb",
        "colab_type": "code",
        "colab": {
          "base_uri": "https://localhost:8080/",
          "height": 34
        },
        "outputId": "8bef262e-4184-44e1-91f3-4d31c7d36bd6"
      },
      "source": [
        "mylist = []\n",
        "mylist.append(\"Jirawat\")\n",
        "mylist.append(200)\n",
        "mylist"
      ],
      "execution_count": 15,
      "outputs": [
        {
          "output_type": "execute_result",
          "data": {
            "text/plain": [
              "['Jirawat', 200]"
            ]
          },
          "metadata": {
            "tags": []
          },
          "execution_count": 15
        }
      ]
    },
    {
      "cell_type": "code",
      "metadata": {
        "id": "lQ2zmlTinJRb",
        "colab_type": "code",
        "colab": {}
      },
      "source": [
        ""
      ],
      "execution_count": 0,
      "outputs": []
    },
    {
      "cell_type": "markdown",
      "metadata": {
        "id": "uGtoYK4goIpp",
        "colab_type": "text"
      },
      "source": [
        "##How to count data in list"
      ]
    },
    {
      "cell_type": "code",
      "metadata": {
        "id": "SF8wyuIRoLdv",
        "colab_type": "code",
        "colab": {
          "base_uri": "https://localhost:8080/",
          "height": 34
        },
        "outputId": "db090c54-8b80-4373-9717-5ae7d18d9078"
      },
      "source": [
        "len(mylist)"
      ],
      "execution_count": 16,
      "outputs": [
        {
          "output_type": "execute_result",
          "data": {
            "text/plain": [
              "2"
            ]
          },
          "metadata": {
            "tags": []
          },
          "execution_count": 16
        }
      ]
    },
    {
      "cell_type": "code",
      "metadata": {
        "id": "XRnc5iDboPf3",
        "colab_type": "code",
        "colab": {}
      },
      "source": [
        ""
      ],
      "execution_count": 0,
      "outputs": []
    },
    {
      "cell_type": "markdown",
      "metadata": {
        "id": "9DmbK-sloUg4",
        "colab_type": "text"
      },
      "source": [
        "#If-Else PyThon\n",
        "###How to use if-else in python"
      ]
    },
    {
      "cell_type": "code",
      "metadata": {
        "id": "_ASzi6dpobSX",
        "colab_type": "code",
        "colab": {
          "base_uri": "https://localhost:8080/",
          "height": 34
        },
        "outputId": "4bc55ab0-1e0e-485b-f86a-297741a3a82a"
      },
      "source": [
        "if mylist[1] > 100:\n",
        " print(\"Pass\")"
      ],
      "execution_count": 25,
      "outputs": [
        {
          "output_type": "stream",
          "text": [
            "Pass\n"
          ],
          "name": "stdout"
        }
      ]
    },
    {
      "cell_type": "code",
      "metadata": {
        "id": "cRoYjKACownX",
        "colab_type": "code",
        "colab": {
          "base_uri": "https://localhost:8080/",
          "height": 34
        },
        "outputId": "de344e81-c429-4ce6-e211-f3246b7a9365"
      },
      "source": [
        "if mylist[1] > 100:\n",
        "  name = mylist[0]\n",
        "  score = mylist[1]\n",
        "  print(name+\" \"+str(score))"
      ],
      "execution_count": 26,
      "outputs": [
        {
          "output_type": "stream",
          "text": [
            "Jirawat 200\n"
          ],
          "name": "stdout"
        }
      ]
    },
    {
      "cell_type": "code",
      "metadata": {
        "id": "YwbluSA0qHoN",
        "colab_type": "code",
        "colab": {
          "base_uri": "https://localhost:8080/",
          "height": 34
        },
        "outputId": "f5572044-126b-4f77-89a3-2bdfb97b59f1"
      },
      "source": [
        "score = 5 \n",
        "if score > 50:\n",
        "  print(\"A\")\n",
        "elif score > 20:\n",
        "  print(\"B\")\n",
        "else:\n",
        "  print(\"C\")\n",
        "  if score ==0:\n",
        "    print(\"F\")"
      ],
      "execution_count": 27,
      "outputs": [
        {
          "output_type": "stream",
          "text": [
            "C\n"
          ],
          "name": "stdout"
        }
      ]
    },
    {
      "cell_type": "code",
      "metadata": {
        "id": "9cIgnxeYqcjv",
        "colab_type": "code",
        "colab": {}
      },
      "source": [
        ""
      ],
      "execution_count": 0,
      "outputs": []
    },
    {
      "cell_type": "markdown",
      "metadata": {
        "id": "_0hbMWObqh8Z",
        "colab_type": "text"
      },
      "source": [
        "#For Loop in PyThon\n",
        "###How to use for loop"
      ]
    },
    {
      "cell_type": "code",
      "metadata": {
        "id": "5XWFii-LqqzP",
        "colab_type": "code",
        "colab": {
          "base_uri": "https://localhost:8080/",
          "height": 204
        },
        "outputId": "74b0ca4a-f1ee-41ab-f03f-de4043992d6c"
      },
      "source": [
        "summation = 0\n",
        "for i in range(0,10):\n",
        "  print(str(i))\n",
        "  summation = summation + 1\n",
        "print((\"The summation result is \")+ str(summation))"
      ],
      "execution_count": 45,
      "outputs": [
        {
          "output_type": "stream",
          "text": [
            "0\n",
            "1\n",
            "2\n",
            "3\n",
            "4\n",
            "5\n",
            "6\n",
            "7\n",
            "8\n",
            "9\n",
            "The summation result is 10\n"
          ],
          "name": "stdout"
        }
      ]
    },
    {
      "cell_type": "code",
      "metadata": {
        "id": "IOydvsLqrCqU",
        "colab_type": "code",
        "colab": {
          "base_uri": "https://localhost:8080/",
          "height": 187
        },
        "outputId": "dd8eea89-becb-48a6-93c6-cf719358210c"
      },
      "source": [
        "summation = []\n",
        "a = 0\n",
        "for i in range(0,10):\n",
        "  a = a + 5\n",
        "  summation.append(a)\n",
        "for i in summation:\n",
        "  print(str(i))"
      ],
      "execution_count": 42,
      "outputs": [
        {
          "output_type": "stream",
          "text": [
            "5\n",
            "10\n",
            "15\n",
            "20\n",
            "25\n",
            "30\n",
            "35\n",
            "40\n",
            "45\n",
            "50\n"
          ],
          "name": "stdout"
        }
      ]
    },
    {
      "cell_type": "code",
      "metadata": {
        "id": "9oBv0knnrYbw",
        "colab_type": "code",
        "colab": {}
      },
      "source": [
        ""
      ],
      "execution_count": 0,
      "outputs": []
    },
    {
      "cell_type": "markdown",
      "metadata": {
        "id": "gJ-WDNf0sjob",
        "colab_type": "text"
      },
      "source": [
        "#For=Each Loop\n"
      ]
    },
    {
      "cell_type": "code",
      "metadata": {
        "id": "CKMtvOz7sltF",
        "colab_type": "code",
        "colab": {
          "base_uri": "https://localhost:8080/",
          "height": 187
        },
        "outputId": "fc5e7d4e-a799-480c-f5a5-28466d904de3"
      },
      "source": [
        "for i in summation:\n",
        "  print(str(i))"
      ],
      "execution_count": 41,
      "outputs": [
        {
          "output_type": "stream",
          "text": [
            "0\n",
            "1\n",
            "2\n",
            "3\n",
            "4\n",
            "5\n",
            "6\n",
            "7\n",
            "8\n",
            "9\n"
          ],
          "name": "stdout"
        }
      ]
    },
    {
      "cell_type": "code",
      "metadata": {
        "id": "UYhtoTJEspPI",
        "colab_type": "code",
        "colab": {}
      },
      "source": [
        ""
      ],
      "execution_count": 0,
      "outputs": []
    }
  ]
}