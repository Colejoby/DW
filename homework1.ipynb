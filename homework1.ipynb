{
  "nbformat": 4,
  "nbformat_minor": 0,
  "metadata": {
    "colab": {
      "name": "Untitled0.ipynb",
      "provenance": [],
      "include_colab_link": true
    },
    "kernelspec": {
      "name": "python3",
      "display_name": "Python 3"
    }
  },
  "cells": [
    {
      "cell_type": "markdown",
      "metadata": {
        "id": "view-in-github",
        "colab_type": "text"
      },
      "source": [
        "<a href=\"https://colab.research.google.com/github/Colejoby/DW/blob/master/homework1.ipynb\" target=\"_parent\"><img src=\"https://colab.research.google.com/assets/colab-badge.svg\" alt=\"Open In Colab\"/></a>"
      ]
    },
    {
      "cell_type": "code",
      "metadata": {
        "id": "4SBwAaziiQJU",
        "colab_type": "code",
        "colab": {}
      },
      "source": [
        ""
      ],
      "execution_count": 0,
      "outputs": []
    },
    {
      "cell_type": "markdown",
      "metadata": {
        "id": "x4twIJVIiRNP",
        "colab_type": "text"
      },
      "source": [
        "# Hello Dude!\n",
        "## How to A\n",
        "### Shifit is missing\n",
        "This is what the hack\n"
      ]
    },
    {
      "cell_type": "code",
      "metadata": {
        "id": "k34uFbQeiZio",
        "colab_type": "code",
        "outputId": "ecbe0414-adb0-416b-c0ff-afc654260f1d",
        "colab": {
          "base_uri": "https://localhost:8080/",
          "height": 34
        }
      },
      "source": [
        "print(\"Hello dude\")"
      ],
      "execution_count": 277,
      "outputs": [
        {
          "output_type": "stream",
          "text": [
            "Hello dude\n"
          ],
          "name": "stdout"
        }
      ]
    },
    {
      "cell_type": "code",
      "metadata": {
        "id": "18P27wI7i2jz",
        "colab_type": "code",
        "colab": {}
      },
      "source": [
        ""
      ],
      "execution_count": 0,
      "outputs": []
    },
    {
      "cell_type": "markdown",
      "metadata": {
        "id": "gE4uCfHFjZA3",
        "colab_type": "text"
      },
      "source": [
        "#Declare Variable\n",
        "###how to declare variable in PyThon\n"
      ]
    },
    {
      "cell_type": "code",
      "metadata": {
        "id": "jOckgWABjhy2",
        "colab_type": "code",
        "outputId": "56ca29e4-1e59-4878-a318-918fb102e7df",
        "colab": {
          "base_uri": "https://localhost:8080/",
          "height": 34
        }
      },
      "source": [
        "score = 100\n",
        "name = \"Jirawat\"\n",
        "print(\" Name is \" + name + \" score is \"+ str(score))"
      ],
      "execution_count": 278,
      "outputs": [
        {
          "output_type": "stream",
          "text": [
            " Name is Jirawat score is 100\n"
          ],
          "name": "stdout"
        }
      ]
    },
    {
      "cell_type": "code",
      "metadata": {
        "id": "yYgllk1mjx_V",
        "colab_type": "code",
        "outputId": "3059d3f5-e7b5-41cd-aafc-daec0928a661",
        "colab": {
          "base_uri": "https://localhost:8080/",
          "height": 34
        }
      },
      "source": [
        "a = 2\n",
        "b = 3\n",
        "c = a * b\n",
        "print(c)"
      ],
      "execution_count": 279,
      "outputs": [
        {
          "output_type": "stream",
          "text": [
            "6\n"
          ],
          "name": "stdout"
        }
      ]
    },
    {
      "cell_type": "code",
      "metadata": {
        "id": "ESuKmYerkUlm",
        "colab_type": "code",
        "colab": {}
      },
      "source": [
        ""
      ],
      "execution_count": 0,
      "outputs": []
    },
    {
      "cell_type": "markdown",
      "metadata": {
        "id": "oAlmSHuqmz4n",
        "colab_type": "text"
      },
      "source": [
        "#List\n",
        "###How to use list PyThon\n"
      ]
    },
    {
      "cell_type": "code",
      "metadata": {
        "id": "k3mj0dLQm6Mb",
        "colab_type": "code",
        "outputId": "507539c5-c720-422e-d440-d14b9a11023f",
        "colab": {
          "base_uri": "https://localhost:8080/",
          "height": 34
        }
      },
      "source": [
        "mylist = []\n",
        "mylist.append(\"Jirawat\")\n",
        "mylist.append(200)\n",
        "mylist"
      ],
      "execution_count": 280,
      "outputs": [
        {
          "output_type": "execute_result",
          "data": {
            "text/plain": [
              "['Jirawat', 200]"
            ]
          },
          "metadata": {
            "tags": []
          },
          "execution_count": 280
        }
      ]
    },
    {
      "cell_type": "code",
      "metadata": {
        "id": "lQ2zmlTinJRb",
        "colab_type": "code",
        "colab": {}
      },
      "source": [
        ""
      ],
      "execution_count": 0,
      "outputs": []
    },
    {
      "cell_type": "markdown",
      "metadata": {
        "id": "uGtoYK4goIpp",
        "colab_type": "text"
      },
      "source": [
        "##How to count data in list"
      ]
    },
    {
      "cell_type": "code",
      "metadata": {
        "id": "SF8wyuIRoLdv",
        "colab_type": "code",
        "outputId": "0e083808-5a8b-4e0e-895e-117d7794a688",
        "colab": {
          "base_uri": "https://localhost:8080/",
          "height": 34
        }
      },
      "source": [
        "len(mylist)"
      ],
      "execution_count": 281,
      "outputs": [
        {
          "output_type": "execute_result",
          "data": {
            "text/plain": [
              "2"
            ]
          },
          "metadata": {
            "tags": []
          },
          "execution_count": 281
        }
      ]
    },
    {
      "cell_type": "code",
      "metadata": {
        "id": "XRnc5iDboPf3",
        "colab_type": "code",
        "colab": {}
      },
      "source": [
        ""
      ],
      "execution_count": 0,
      "outputs": []
    },
    {
      "cell_type": "markdown",
      "metadata": {
        "id": "9DmbK-sloUg4",
        "colab_type": "text"
      },
      "source": [
        "#If-Else PyThon\n",
        "###How to use if-else in python"
      ]
    },
    {
      "cell_type": "code",
      "metadata": {
        "id": "_ASzi6dpobSX",
        "colab_type": "code",
        "outputId": "78ba20d7-83e6-4946-c2cc-46ef479abcf3",
        "colab": {
          "base_uri": "https://localhost:8080/",
          "height": 34
        }
      },
      "source": [
        "if mylist[1] > 100:\n",
        " print(\"Pass\")"
      ],
      "execution_count": 282,
      "outputs": [
        {
          "output_type": "stream",
          "text": [
            "Pass\n"
          ],
          "name": "stdout"
        }
      ]
    },
    {
      "cell_type": "code",
      "metadata": {
        "id": "cRoYjKACownX",
        "colab_type": "code",
        "outputId": "8d08b2a2-e543-47e8-af84-49e73e0c136c",
        "colab": {
          "base_uri": "https://localhost:8080/",
          "height": 34
        }
      },
      "source": [
        "if mylist[1] > 100:\n",
        "  name = mylist[0]\n",
        "  score = mylist[1]\n",
        "  print(name+\" \"+str(score))"
      ],
      "execution_count": 283,
      "outputs": [
        {
          "output_type": "stream",
          "text": [
            "Jirawat 200\n"
          ],
          "name": "stdout"
        }
      ]
    },
    {
      "cell_type": "code",
      "metadata": {
        "id": "YwbluSA0qHoN",
        "colab_type": "code",
        "outputId": "a6379657-2159-4666-a4f4-5ed905b82f56",
        "colab": {
          "base_uri": "https://localhost:8080/",
          "height": 34
        }
      },
      "source": [
        "score = 5 \n",
        "if score > 50:\n",
        "  print(\"A\")\n",
        "elif score > 20:\n",
        "  print(\"B\")\n",
        "else:\n",
        "  print(\"C\")\n",
        "  if score ==0:\n",
        "    print(\"F\")"
      ],
      "execution_count": 284,
      "outputs": [
        {
          "output_type": "stream",
          "text": [
            "C\n"
          ],
          "name": "stdout"
        }
      ]
    },
    {
      "cell_type": "code",
      "metadata": {
        "id": "9cIgnxeYqcjv",
        "colab_type": "code",
        "colab": {}
      },
      "source": [
        ""
      ],
      "execution_count": 0,
      "outputs": []
    },
    {
      "cell_type": "markdown",
      "metadata": {
        "id": "_0hbMWObqh8Z",
        "colab_type": "text"
      },
      "source": [
        "#For Loop in PyThon\n",
        "###How to use for loop"
      ]
    },
    {
      "cell_type": "code",
      "metadata": {
        "id": "5XWFii-LqqzP",
        "colab_type": "code",
        "outputId": "2d3bca35-0d98-406d-de1d-7398b9927e87",
        "colab": {
          "base_uri": "https://localhost:8080/",
          "height": 204
        }
      },
      "source": [
        "summation = 0\n",
        "for i in range(0,10):\n",
        "  print(str(i))\n",
        "  summation = summation + 1\n",
        "print((\"The summation result is \")+ str(summation))"
      ],
      "execution_count": 285,
      "outputs": [
        {
          "output_type": "stream",
          "text": [
            "0\n",
            "1\n",
            "2\n",
            "3\n",
            "4\n",
            "5\n",
            "6\n",
            "7\n",
            "8\n",
            "9\n",
            "The summation result is 10\n"
          ],
          "name": "stdout"
        }
      ]
    },
    {
      "cell_type": "code",
      "metadata": {
        "id": "IOydvsLqrCqU",
        "colab_type": "code",
        "outputId": "62946b45-16d8-492a-cf4f-4430b5dcad3e",
        "colab": {
          "base_uri": "https://localhost:8080/",
          "height": 187
        }
      },
      "source": [
        "summation = []\n",
        "a = 0\n",
        "for i in range(0,10):\n",
        "  a = a + 5\n",
        "  summation.append(a)\n",
        "for i in summation:\n",
        "  print(str(i))"
      ],
      "execution_count": 286,
      "outputs": [
        {
          "output_type": "stream",
          "text": [
            "5\n",
            "10\n",
            "15\n",
            "20\n",
            "25\n",
            "30\n",
            "35\n",
            "40\n",
            "45\n",
            "50\n"
          ],
          "name": "stdout"
        }
      ]
    },
    {
      "cell_type": "code",
      "metadata": {
        "id": "9oBv0knnrYbw",
        "colab_type": "code",
        "colab": {}
      },
      "source": [
        ""
      ],
      "execution_count": 0,
      "outputs": []
    },
    {
      "cell_type": "markdown",
      "metadata": {
        "id": "gJ-WDNf0sjob",
        "colab_type": "text"
      },
      "source": [
        "#For=Each Loop\n"
      ]
    },
    {
      "cell_type": "code",
      "metadata": {
        "id": "CKMtvOz7sltF",
        "colab_type": "code",
        "outputId": "7b18236b-91d0-41bc-f367-16adbafdac12",
        "colab": {
          "base_uri": "https://localhost:8080/",
          "height": 187
        }
      },
      "source": [
        "for i in summation:\n",
        "  print(str(i))"
      ],
      "execution_count": 287,
      "outputs": [
        {
          "output_type": "stream",
          "text": [
            "5\n",
            "10\n",
            "15\n",
            "20\n",
            "25\n",
            "30\n",
            "35\n",
            "40\n",
            "45\n",
            "50\n"
          ],
          "name": "stdout"
        }
      ]
    },
    {
      "cell_type": "code",
      "metadata": {
        "id": "UYhtoTJEspPI",
        "colab_type": "code",
        "colab": {}
      },
      "source": [
        ""
      ],
      "execution_count": 0,
      "outputs": []
    },
    {
      "cell_type": "markdown",
      "metadata": {
        "id": "eClXHlPOvUeq",
        "colab_type": "text"
      },
      "source": [
        "#NumPy\n",
        "###Library for matrix operation"
      ]
    },
    {
      "cell_type": "markdown",
      "metadata": {
        "id": "BZTiIRgaxJdi",
        "colab_type": "text"
      },
      "source": [
        "###Load numpy library"
      ]
    },
    {
      "cell_type": "code",
      "metadata": {
        "id": "x41QvSNNvWvT",
        "colab_type": "code",
        "colab": {}
      },
      "source": [
        "import numpy as np"
      ],
      "execution_count": 0,
      "outputs": []
    },
    {
      "cell_type": "markdown",
      "metadata": {
        "id": "lGaeruSuwXJ6",
        "colab_type": "text"
      },
      "source": [
        "###Create array in numpy"
      ]
    },
    {
      "cell_type": "code",
      "metadata": {
        "id": "KZlJroB7vgyU",
        "colab_type": "code",
        "outputId": "b8fd4afa-e384-40a6-d18d-4796fcd3b71b",
        "colab": {
          "base_uri": "https://localhost:8080/",
          "height": 34
        }
      },
      "source": [
        "l = [1,2,3,4]\n",
        "np_array = np.array(l)\n",
        "type(np_array)"
      ],
      "execution_count": 289,
      "outputs": [
        {
          "output_type": "execute_result",
          "data": {
            "text/plain": [
              "numpy.ndarray"
            ]
          },
          "metadata": {
            "tags": []
          },
          "execution_count": 289
        }
      ]
    },
    {
      "cell_type": "markdown",
      "metadata": {
        "id": "I9_8BAsbxSNy",
        "colab_type": "text"
      },
      "source": [
        "##Create Matrix"
      ]
    },
    {
      "cell_type": "markdown",
      "metadata": {
        "id": "trQDt8U8wf_C",
        "colab_type": "text"
      },
      "source": [
        "###Create Matrix in Array formal"
      ]
    },
    {
      "cell_type": "code",
      "metadata": {
        "id": "_uhuXzx4v6mo",
        "colab_type": "code",
        "outputId": "02ed56af-a635-4220-be43-acded7dfa15f",
        "colab": {
          "base_uri": "https://localhost:8080/",
          "height": 68
        }
      },
      "source": [
        "np_matrix = np.array([[1,2],[3,4],[5,6]])\n",
        "np_matrix"
      ],
      "execution_count": 290,
      "outputs": [
        {
          "output_type": "execute_result",
          "data": {
            "text/plain": [
              "array([[1, 2],\n",
              "       [3, 4],\n",
              "       [5, 6]])"
            ]
          },
          "metadata": {
            "tags": []
          },
          "execution_count": 290
        }
      ]
    },
    {
      "cell_type": "markdown",
      "metadata": {
        "id": "ptNCPAWDxama",
        "colab_type": "text"
      },
      "source": [
        "##Create Matrix Size\n",
        "###Check the dimension of this matrix"
      ]
    },
    {
      "cell_type": "code",
      "metadata": {
        "id": "fi1puMvAwskQ",
        "colab_type": "code",
        "outputId": "9c80bbc8-1bdd-42ac-a266-2e3c8a14f84e",
        "colab": {
          "base_uri": "https://localhost:8080/",
          "height": 34
        }
      },
      "source": [
        "np.size(np_matrix,0)"
      ],
      "execution_count": 291,
      "outputs": [
        {
          "output_type": "execute_result",
          "data": {
            "text/plain": [
              "3"
            ]
          },
          "metadata": {
            "tags": []
          },
          "execution_count": 291
        }
      ]
    },
    {
      "cell_type": "code",
      "metadata": {
        "id": "SEhXHQ_9xqU9",
        "colab_type": "code",
        "outputId": "4a81da71-c3f2-4665-9387-f33dc94003a4",
        "colab": {
          "base_uri": "https://localhost:8080/",
          "height": 34
        }
      },
      "source": [
        "np.size(np_matrix,1)"
      ],
      "execution_count": 292,
      "outputs": [
        {
          "output_type": "execute_result",
          "data": {
            "text/plain": [
              "2"
            ]
          },
          "metadata": {
            "tags": []
          },
          "execution_count": 292
        }
      ]
    },
    {
      "cell_type": "markdown",
      "metadata": {
        "id": "192sAKd0x5wS",
        "colab_type": "text"
      },
      "source": [
        "##Check Matrix Properties\n",
        "###Check other matrix properties"
      ]
    },
    {
      "cell_type": "code",
      "metadata": {
        "id": "LRaeYT6px335",
        "colab_type": "code",
        "outputId": "c55b3672-daba-41fa-b8af-92b1c76f07b0",
        "colab": {
          "base_uri": "https://localhost:8080/",
          "height": 34
        }
      },
      "source": [
        "np_matrix.shape"
      ],
      "execution_count": 293,
      "outputs": [
        {
          "output_type": "execute_result",
          "data": {
            "text/plain": [
              "(3, 2)"
            ]
          },
          "metadata": {
            "tags": []
          },
          "execution_count": 293
        }
      ]
    },
    {
      "cell_type": "code",
      "metadata": {
        "id": "TFb1TWK8yFIp",
        "colab_type": "code",
        "outputId": "8c3c25ff-10ab-4b9e-8b7d-9a4c76d690c7",
        "colab": {
          "base_uri": "https://localhost:8080/",
          "height": 34
        }
      },
      "source": [
        "np_matrix.ndim"
      ],
      "execution_count": 294,
      "outputs": [
        {
          "output_type": "execute_result",
          "data": {
            "text/plain": [
              "2"
            ]
          },
          "metadata": {
            "tags": []
          },
          "execution_count": 294
        }
      ]
    },
    {
      "cell_type": "code",
      "metadata": {
        "id": "exz9RfJlyHW5",
        "colab_type": "code",
        "outputId": "b2c01398-086f-4c12-d73d-7dd76c093f3c",
        "colab": {
          "base_uri": "https://localhost:8080/",
          "height": 34
        }
      },
      "source": [
        "np_matrix.size"
      ],
      "execution_count": 295,
      "outputs": [
        {
          "output_type": "execute_result",
          "data": {
            "text/plain": [
              "6"
            ]
          },
          "metadata": {
            "tags": []
          },
          "execution_count": 295
        }
      ]
    },
    {
      "cell_type": "markdown",
      "metadata": {
        "id": "Z9cchvpByaSb",
        "colab_type": "text"
      },
      "source": [
        "##Matrix can be mix type (auto casting)\n",
        "###Create Matrix with Mix Data Type"
      ]
    },
    {
      "cell_type": "code",
      "metadata": {
        "id": "-fGLhuU4yKyI",
        "colab_type": "code",
        "outputId": "61e64cac-ed57-4147-ab25-d0fd039ca45b",
        "colab": {
          "base_uri": "https://localhost:8080/",
          "height": 68
        }
      },
      "source": [
        "np_mix_matrix = np.array([['one',2],['three',4],['five',6]])\n",
        "np_mix_matrix"
      ],
      "execution_count": 296,
      "outputs": [
        {
          "output_type": "execute_result",
          "data": {
            "text/plain": [
              "array([['one', '2'],\n",
              "       ['three', '4'],\n",
              "       ['five', '6']], dtype='<U5')"
            ]
          },
          "metadata": {
            "tags": []
          },
          "execution_count": 296
        }
      ]
    },
    {
      "cell_type": "markdown",
      "metadata": {
        "id": "YD_nhrL9zTIs",
        "colab_type": "text"
      },
      "source": [
        "##Access data element\n",
        "###Access matrix element"
      ]
    },
    {
      "cell_type": "code",
      "metadata": {
        "id": "ForLVUTEzFq5",
        "colab_type": "code",
        "outputId": "1e3114d2-0bd8-4153-ed05-1fcf20f5a216",
        "colab": {
          "base_uri": "https://localhost:8080/",
          "height": 34
        }
      },
      "source": [
        "np_mix_matrix[0,1]"
      ],
      "execution_count": 297,
      "outputs": [
        {
          "output_type": "execute_result",
          "data": {
            "text/plain": [
              "'2'"
            ]
          },
          "metadata": {
            "tags": []
          },
          "execution_count": 297
        }
      ]
    },
    {
      "cell_type": "markdown",
      "metadata": {
        "id": "RVm6C_r8z0Z1",
        "colab_type": "text"
      },
      "source": [
        "###Access all column of matrix"
      ]
    },
    {
      "cell_type": "code",
      "metadata": {
        "id": "mIXdPLMizquh",
        "colab_type": "code",
        "outputId": "6812e918-bd33-44bd-d941-200a3e8e4784",
        "colab": {
          "base_uri": "https://localhost:8080/",
          "height": 34
        }
      },
      "source": [
        "np_mix_matrix[:,0]"
      ],
      "execution_count": 298,
      "outputs": [
        {
          "output_type": "execute_result",
          "data": {
            "text/plain": [
              "array(['one', 'three', 'five'], dtype='<U5')"
            ]
          },
          "metadata": {
            "tags": []
          },
          "execution_count": 298
        }
      ]
    },
    {
      "cell_type": "markdown",
      "metadata": {
        "id": "92J79Yn1z-Xz",
        "colab_type": "text"
      },
      "source": [
        "###Access all row of matrix"
      ]
    },
    {
      "cell_type": "code",
      "metadata": {
        "id": "Rxas0mTXz7vx",
        "colab_type": "code",
        "outputId": "94a0c958-fffb-4bee-d983-890fa7a703ca",
        "colab": {
          "base_uri": "https://localhost:8080/",
          "height": 34
        }
      },
      "source": [
        "np_mix_matrix[0,]"
      ],
      "execution_count": 299,
      "outputs": [
        {
          "output_type": "execute_result",
          "data": {
            "text/plain": [
              "array(['one', '2'], dtype='<U5')"
            ]
          },
          "metadata": {
            "tags": []
          },
          "execution_count": 299
        }
      ]
    },
    {
      "cell_type": "markdown",
      "metadata": {
        "id": "GHtyC5ck0PNT",
        "colab_type": "text"
      },
      "source": [
        "##Access Data & Type Casting\n",
        "###Access element from row 0 to row 1 "
      ]
    },
    {
      "cell_type": "code",
      "metadata": {
        "id": "JDu5Ct3X0Hx5",
        "colab_type": "code",
        "outputId": "2cf44a19-1058-4f75-d022-39ec0c458aa1",
        "colab": {
          "base_uri": "https://localhost:8080/",
          "height": 51
        }
      },
      "source": [
        "np_mix_matrix[0:2,]"
      ],
      "execution_count": 300,
      "outputs": [
        {
          "output_type": "execute_result",
          "data": {
            "text/plain": [
              "array([['one', '2'],\n",
              "       ['three', '4']], dtype='<U5')"
            ]
          },
          "metadata": {
            "tags": []
          },
          "execution_count": 300
        }
      ]
    },
    {
      "cell_type": "markdown",
      "metadata": {
        "id": "UNT_-tTy1sds",
        "colab_type": "text"
      },
      "source": [
        "###Type casting ndarray object"
      ]
    },
    {
      "cell_type": "code",
      "metadata": {
        "id": "R6JoD-x91Z-n",
        "colab_type": "code",
        "outputId": "39dd8452-1306-4612-cc51-a58ede2197bd",
        "colab": {
          "base_uri": "https://localhost:8080/",
          "height": 34
        }
      },
      "source": [
        "np.array(np_mix_matrix[:,1], dtype = int)"
      ],
      "execution_count": 301,
      "outputs": [
        {
          "output_type": "execute_result",
          "data": {
            "text/plain": [
              "array([2, 4, 6])"
            ]
          },
          "metadata": {
            "tags": []
          },
          "execution_count": 301
        }
      ]
    },
    {
      "cell_type": "markdown",
      "metadata": {
        "id": "0j-3DYL_2LXf",
        "colab_type": "text"
      },
      "source": [
        "##Generate Matrix of Zeros & Ones \n",
        "###Create matrix of zeros "
      ]
    },
    {
      "cell_type": "code",
      "metadata": {
        "id": "bQcU5VL012RB",
        "colab_type": "code",
        "outputId": "2980d7c5-d370-4783-ad61-430728e4ad35",
        "colab": {
          "base_uri": "https://localhost:8080/",
          "height": 51
        }
      },
      "source": [
        "np.zeros([2,3])"
      ],
      "execution_count": 302,
      "outputs": [
        {
          "output_type": "execute_result",
          "data": {
            "text/plain": [
              "array([[0., 0., 0.],\n",
              "       [0., 0., 0.]])"
            ]
          },
          "metadata": {
            "tags": []
          },
          "execution_count": 302
        }
      ]
    },
    {
      "cell_type": "markdown",
      "metadata": {
        "id": "tTkEEe0Y2deT",
        "colab_type": "text"
      },
      "source": [
        "###Create matrix of ones"
      ]
    },
    {
      "cell_type": "code",
      "metadata": {
        "id": "jmPxNFSI2Yze",
        "colab_type": "code",
        "outputId": "52dd9ae6-6b43-4182-f5fc-75bee8aae53a",
        "colab": {
          "base_uri": "https://localhost:8080/",
          "height": 102
        }
      },
      "source": [
        "np.ones([5,5])"
      ],
      "execution_count": 303,
      "outputs": [
        {
          "output_type": "execute_result",
          "data": {
            "text/plain": [
              "array([[1., 1., 1., 1., 1.],\n",
              "       [1., 1., 1., 1., 1.],\n",
              "       [1., 1., 1., 1., 1.],\n",
              "       [1., 1., 1., 1., 1.],\n",
              "       [1., 1., 1., 1., 1.]])"
            ]
          },
          "metadata": {
            "tags": []
          },
          "execution_count": 303
        }
      ]
    },
    {
      "cell_type": "markdown",
      "metadata": {
        "id": "TvWMxV7X2rws",
        "colab_type": "text"
      },
      "source": [
        "##Generate Eye Matrix & Empty Matrix\n",
        "###Create Eye Matrix"
      ]
    },
    {
      "cell_type": "code",
      "metadata": {
        "id": "9N7bFY7d2jOK",
        "colab_type": "code",
        "outputId": "624aa711-0c43-43f2-b4bc-98a9c3097ac4",
        "colab": {
          "base_uri": "https://localhost:8080/",
          "height": 102
        }
      },
      "source": [
        "np.eye(5)"
      ],
      "execution_count": 304,
      "outputs": [
        {
          "output_type": "execute_result",
          "data": {
            "text/plain": [
              "array([[1., 0., 0., 0., 0.],\n",
              "       [0., 1., 0., 0., 0.],\n",
              "       [0., 0., 1., 0., 0.],\n",
              "       [0., 0., 0., 1., 0.],\n",
              "       [0., 0., 0., 0., 1.]])"
            ]
          },
          "metadata": {
            "tags": []
          },
          "execution_count": 304
        }
      ]
    },
    {
      "cell_type": "markdown",
      "metadata": {
        "id": "fxQVRjpw26WU",
        "colab_type": "text"
      },
      "source": [
        "###Create Empty Matrix"
      ]
    },
    {
      "cell_type": "code",
      "metadata": {
        "id": "Mi4HQ4k624QZ",
        "colab_type": "code",
        "outputId": "f5c12150-3dc5-418d-b917-70b198d066eb",
        "colab": {
          "base_uri": "https://localhost:8080/",
          "height": 102
        }
      },
      "source": [
        "np.empty([5,5])"
      ],
      "execution_count": 305,
      "outputs": [
        {
          "output_type": "execute_result",
          "data": {
            "text/plain": [
              "array([[1., 0., 0., 0., 0.],\n",
              "       [0., 1., 0., 0., 0.],\n",
              "       [0., 0., 1., 0., 0.],\n",
              "       [0., 0., 0., 1., 0.],\n",
              "       [0., 0., 0., 0., 1.]])"
            ]
          },
          "metadata": {
            "tags": []
          },
          "execution_count": 305
        }
      ]
    },
    {
      "cell_type": "markdown",
      "metadata": {
        "id": "cTnozSnJ3Y2e",
        "colab_type": "text"
      },
      "source": [
        "##Generate Random Matrix\n",
        "###Random matrix of size =(5,5)"
      ]
    },
    {
      "cell_type": "code",
      "metadata": {
        "id": "AnNJM1WP3AKZ",
        "colab_type": "code",
        "outputId": "9f163067-cec8-4f72-d1fa-fe9fbe69468a",
        "colab": {
          "base_uri": "https://localhost:8080/",
          "height": 102
        }
      },
      "source": [
        "np.random.rand(5,5)"
      ],
      "execution_count": 306,
      "outputs": [
        {
          "output_type": "execute_result",
          "data": {
            "text/plain": [
              "array([[0.32044256, 0.67214145, 0.03291161, 0.88123854, 0.32119637],\n",
              "       [0.34606349, 0.89676788, 0.7387101 , 0.01662848, 0.86659586],\n",
              "       [0.73047231, 0.05838282, 0.98766579, 0.08572013, 0.32849421],\n",
              "       [0.13499311, 0.44517553, 0.74733137, 0.84984003, 0.502214  ],\n",
              "       [0.40018512, 0.85044536, 0.04744226, 0.51964565, 0.12954989]])"
            ]
          },
          "metadata": {
            "tags": []
          },
          "execution_count": 306
        }
      ]
    },
    {
      "cell_type": "markdown",
      "metadata": {
        "id": "3qvwItyZ321Q",
        "colab_type": "text"
      },
      "source": [
        "Random matrix of size = 3,3 having value between 0 to 4"
      ]
    },
    {
      "cell_type": "code",
      "metadata": {
        "id": "QGIZHvnp3vPX",
        "colab_type": "code",
        "outputId": "fa1c7880-d368-4446-b937-6ba3af584287",
        "colab": {
          "base_uri": "https://localhost:8080/",
          "height": 68
        }
      },
      "source": [
        "np.random.randint(5,size = (3,3))"
      ],
      "execution_count": 307,
      "outputs": [
        {
          "output_type": "execute_result",
          "data": {
            "text/plain": [
              "array([[4, 4, 2],\n",
              "       [2, 0, 1],\n",
              "       [2, 4, 0]])"
            ]
          },
          "metadata": {
            "tags": []
          },
          "execution_count": 307
        }
      ]
    },
    {
      "cell_type": "markdown",
      "metadata": {
        "id": "whtbyPSs4XVV",
        "colab_type": "text"
      },
      "source": [
        "##Random vs. Random Normal Distribution\n",
        "###Uniform Random Distribution vs. Normal Distribution"
      ]
    },
    {
      "cell_type": "code",
      "metadata": {
        "id": "6IP4TeIR4B3K",
        "colab_type": "code",
        "outputId": "3dfbd764-1f6d-462e-ed64-22c6cec4e752",
        "colab": {
          "base_uri": "https://localhost:8080/",
          "height": 211
        }
      },
      "source": [
        "import matplotlib.pyplot as plt\n",
        "fig, axes = plt.subplots(1,2,figsize=(8,3))\n",
        "axes[0].hist(np.random.rand(1000))\n",
        "axes[1].hist(np.random.randn(1000))\n",
        "plt.show()"
      ],
      "execution_count": 308,
      "outputs": [
        {
          "output_type": "display_data",
          "data": {
            "image/png": "[encoded data removed]",
            "text/plain": [
              "<Figure size 576x216 with 2 Axes>"
            ]
          },
          "metadata": {
            "tags": []
          }
        }
      ]
    },
    {
      "cell_type": "markdown",
      "metadata": {
        "id": "6iEQ4ppK5DCP",
        "colab_type": "text"
      },
      "source": [
        "##Sampling data\n",
        "###Randomly choose 3 number range from 0 to 4"
      ]
    },
    {
      "cell_type": "code",
      "metadata": {
        "id": "CfdPPD-O47cg",
        "colab_type": "code",
        "outputId": "4dcf566e-eaa7-49ab-ddef-80fd1d8802d3",
        "colab": {
          "base_uri": "https://localhost:8080/",
          "height": 34
        }
      },
      "source": [
        "np.random.choice(5,3,replace = False)"
      ],
      "execution_count": 309,
      "outputs": [
        {
          "output_type": "execute_result",
          "data": {
            "text/plain": [
              "array([1, 2, 4])"
            ]
          },
          "metadata": {
            "tags": []
          },
          "execution_count": 309
        }
      ]
    },
    {
      "cell_type": "markdown",
      "metadata": {
        "id": "0u_J3gXp5dv7",
        "colab_type": "text"
      },
      "source": [
        "###Randomly choose 3 row from 0 to 4 into new matrix"
      ]
    },
    {
      "cell_type": "code",
      "metadata": {
        "id": "k-hQFNvo5OZq",
        "colab_type": "code",
        "outputId": "e69a2d50-7876-43be-a62d-fefc9a6f9653",
        "colab": {
          "base_uri": "https://localhost:8080/",
          "height": 68
        }
      },
      "source": [
        "np_matrix = np.random.rand(5,5)\n",
        "idx_choose = np.random.choice(5,3,replace = False)\n",
        "np_matrix_choose = np_matrix[idx_choose,:]\n",
        "np_matrix_choose\n",
        "                         "
      ],
      "execution_count": 310,
      "outputs": [
        {
          "output_type": "execute_result",
          "data": {
            "text/plain": [
              "array([[0.62144855, 0.18447133, 0.03261332, 0.66116353, 0.24153956],\n",
              "       [0.67253158, 0.85345737, 0.91747574, 0.30331084, 0.50925105],\n",
              "       [0.89501864, 0.0199752 , 0.63779503, 0.82586985, 0.43999373]])"
            ]
          },
          "metadata": {
            "tags": []
          },
          "execution_count": 310
        }
      ]
    },
    {
      "cell_type": "markdown",
      "metadata": {
        "id": "_Dgde-sS6I6t",
        "colab_type": "text"
      },
      "source": [
        "#EX.1"
      ]
    },
    {
      "cell_type": "code",
      "metadata": {
        "id": "m1eKVLdx6FGc",
        "colab_type": "code",
        "outputId": "c134fd3d-8b7b-414b-8d8f-ff0c4de4785b",
        "colab": {
          "base_uri": "https://localhost:8080/",
          "height": 187
        }
      },
      "source": [
        "a=np.random.rand(10,5)\n",
        "b=np.random.randint(2,size=(10))\n",
        "a[:,4] = b\n",
        "a"
      ],
      "execution_count": 311,
      "outputs": [
        {
          "output_type": "execute_result",
          "data": {
            "text/plain": [
              "array([[0.18260051, 0.89480564, 0.68787052, 0.41993995, 1.        ],\n",
              "       [0.57358658, 0.03097664, 0.44111124, 0.33657496, 0.        ],\n",
              "       [0.82283398, 0.32102527, 0.44457406, 0.71573692, 1.        ],\n",
              "       [0.71953255, 0.81527484, 0.28370696, 0.76407803, 0.        ],\n",
              "       [0.36555571, 0.35166626, 0.0942362 , 0.72091611, 1.        ],\n",
              "       [0.13862851, 0.77722399, 0.23937507, 0.57448337, 1.        ],\n",
              "       [0.11612647, 0.81760041, 0.60617006, 0.4791752 , 1.        ],\n",
              "       [0.33115269, 0.6676003 , 0.03989121, 0.29920976, 0.        ],\n",
              "       [0.70869479, 0.66587476, 0.23111081, 0.82770786, 1.        ],\n",
              "       [0.51615053, 0.2056805 , 0.6825218 , 0.02139393, 0.        ]])"
            ]
          },
          "metadata": {
            "tags": []
          },
          "execution_count": 311
        }
      ]
    },
    {
      "cell_type": "markdown",
      "metadata": {
        "id": "QGn35GUaCQzJ",
        "colab_type": "text"
      },
      "source": [
        "##Delete row or column from matrix\n",
        "###Create maritx of size (5,5) contains value from 0 to 10"
      ]
    },
    {
      "cell_type": "code",
      "metadata": {
        "id": "SD3QB1TV6WvD",
        "colab_type": "code",
        "outputId": "8c979703-e6b0-429e-9af9-fe0c36d666f1",
        "colab": {
          "base_uri": "https://localhost:8080/",
          "height": 102
        }
      },
      "source": [
        "np_matrix = np.random.randint(11,size = (5,5))\n",
        "np_matrix"
      ],
      "execution_count": 312,
      "outputs": [
        {
          "output_type": "execute_result",
          "data": {
            "text/plain": [
              "array([[1, 5, 5, 6, 9],\n",
              "       [3, 4, 7, 2, 9],\n",
              "       [2, 2, 8, 6, 2],\n",
              "       [4, 2, 8, 4, 2],\n",
              "       [5, 6, 2, 4, 4]])"
            ]
          },
          "metadata": {
            "tags": []
          },
          "execution_count": 312
        }
      ]
    },
    {
      "cell_type": "markdown",
      "metadata": {
        "id": "FOkKSuwFCitm",
        "colab_type": "text"
      },
      "source": [
        "##Delete rows 2 and 3 from this matrix"
      ]
    },
    {
      "cell_type": "code",
      "metadata": {
        "id": "yFVG_ue_ChiR",
        "colab_type": "code",
        "outputId": "dab1bbb7-6b10-4330-b81d-a7e1915244b8",
        "colab": {
          "base_uri": "https://localhost:8080/",
          "height": 68
        }
      },
      "source": [
        "np_matrix = np.delete(np_matrix,[1,2],0)\n",
        "np_matrix"
      ],
      "execution_count": 313,
      "outputs": [
        {
          "output_type": "execute_result",
          "data": {
            "text/plain": [
              "array([[1, 5, 5, 6, 9],\n",
              "       [4, 2, 8, 4, 2],\n",
              "       [5, 6, 2, 4, 4]])"
            ]
          },
          "metadata": {
            "tags": []
          },
          "execution_count": 313
        }
      ]
    },
    {
      "cell_type": "markdown",
      "metadata": {
        "id": "xHLCMUdCC0Of",
        "colab_type": "text"
      },
      "source": [
        "##Find elements in matrix\n",
        "###Create maritx of size (5,5) contains value from 0 to 2"
      ]
    },
    {
      "cell_type": "code",
      "metadata": {
        "id": "gbSAq7w2CtKz",
        "colab_type": "code",
        "outputId": "123d6a7b-6cf1-4d89-ec71-8fcb7c642f5b",
        "colab": {
          "base_uri": "https://localhost:8080/",
          "height": 102
        }
      },
      "source": [
        "np_matrix = np.random.randint(3,size = (5,5))\n",
        "np_matrix"
      ],
      "execution_count": 314,
      "outputs": [
        {
          "output_type": "execute_result",
          "data": {
            "text/plain": [
              "array([[1, 1, 1, 1, 1],\n",
              "       [1, 2, 2, 2, 1],\n",
              "       [1, 2, 0, 2, 0],\n",
              "       [2, 1, 1, 0, 2],\n",
              "       [1, 0, 1, 0, 0]])"
            ]
          },
          "metadata": {
            "tags": []
          },
          "execution_count": 314
        }
      ]
    },
    {
      "cell_type": "markdown",
      "metadata": {
        "id": "AFuoR0WlDaW8",
        "colab_type": "text"
      },
      "source": [
        "###Find index of 2 from matix"
      ]
    },
    {
      "cell_type": "code",
      "metadata": {
        "id": "GevoGOMaDTik",
        "colab_type": "code",
        "outputId": "76c8302f-b293-418b-ffe8-af3f3ed5981a",
        "colab": {
          "base_uri": "https://localhost:8080/",
          "height": 34
        }
      },
      "source": [
        "result = np.where(np_matrix == 2)\n",
        "result"
      ],
      "execution_count": 315,
      "outputs": [
        {
          "output_type": "execute_result",
          "data": {
            "text/plain": [
              "(array([1, 1, 1, 2, 2, 3, 3]), array([1, 2, 3, 1, 3, 0, 4]))"
            ]
          },
          "metadata": {
            "tags": []
          },
          "execution_count": 315
        }
      ]
    },
    {
      "cell_type": "markdown",
      "metadata": {
        "id": "l78brdNzEH5I",
        "colab_type": "text"
      },
      "source": [
        "##Find elements in matrix\n",
        "###Another way"
      ]
    },
    {
      "cell_type": "code",
      "metadata": {
        "id": "ZDOW-307Djh0",
        "colab_type": "code",
        "outputId": "5d326538-7335-4047-bfe1-6ba1e5f9c9db",
        "colab": {
          "base_uri": "https://localhost:8080/",
          "height": 102
        }
      },
      "source": [
        "result = (np_matrix==2)\n",
        "result"
      ],
      "execution_count": 316,
      "outputs": [
        {
          "output_type": "execute_result",
          "data": {
            "text/plain": [
              "array([[False, False, False, False, False],\n",
              "       [False,  True,  True,  True, False],\n",
              "       [False,  True, False,  True, False],\n",
              "       [ True, False, False, False,  True],\n",
              "       [False, False, False, False, False]])"
            ]
          },
          "metadata": {
            "tags": []
          },
          "execution_count": 316
        }
      ]
    },
    {
      "cell_type": "markdown",
      "metadata": {
        "id": "KPKPEoiKEZ_Y",
        "colab_type": "text"
      },
      "source": [
        "##Find and Replace Values\n",
        "###Use to replace values"
      ]
    },
    {
      "cell_type": "code",
      "metadata": {
        "id": "cf3UW6G1EUgT",
        "colab_type": "code",
        "outputId": "9f943904-f252-488c-ffd2-ef470c477b43",
        "colab": {
          "base_uri": "https://localhost:8080/",
          "height": 102
        }
      },
      "source": [
        "np_matrix[result]=99\n",
        "np_matrix"
      ],
      "execution_count": 317,
      "outputs": [
        {
          "output_type": "execute_result",
          "data": {
            "text/plain": [
              "array([[ 1,  1,  1,  1,  1],\n",
              "       [ 1, 99, 99, 99,  1],\n",
              "       [ 1, 99,  0, 99,  0],\n",
              "       [99,  1,  1,  0, 99],\n",
              "       [ 1,  0,  1,  0,  0]])"
            ]
          },
          "metadata": {
            "tags": []
          },
          "execution_count": 317
        }
      ]
    },
    {
      "cell_type": "markdown",
      "metadata": {
        "id": "_3cD91LVEqdT",
        "colab_type": "text"
      },
      "source": [
        "#EX.2"
      ]
    },
    {
      "cell_type": "code",
      "metadata": {
        "id": "IE1-wagREk3M",
        "colab_type": "code",
        "outputId": "8b34f444-0954-414d-8ebd-c53dae39718d",
        "colab": {
          "base_uri": "https://localhost:8080/",
          "height": 357
        }
      },
      "source": [
        "np_matrix = np.random.rand(10,5)\n",
        "np_matrix"
      ],
      "execution_count": 318,
      "outputs": [
        {
          "output_type": "execute_result",
          "data": {
            "text/plain": [
              "array([[2.36495726e-01, 8.66587474e-02, 1.00166606e-01, 2.70025603e-01,\n",
              "        7.31958362e-01],\n",
              "       [1.72970181e-01, 1.82662620e-01, 3.98134997e-01, 4.49215622e-01,\n",
              "        7.69522138e-01],\n",
              "       [5.34862927e-01, 7.06152557e-01, 7.98127330e-01, 3.66060658e-01,\n",
              "        7.20550048e-01],\n",
              "       [7.20336877e-01, 4.27257182e-01, 4.41694855e-02, 5.02568827e-01,\n",
              "        7.02826994e-01],\n",
              "       [4.44075832e-01, 9.86676880e-01, 3.26611256e-02, 2.67687787e-01,\n",
              "        4.06303460e-01],\n",
              "       [7.38175696e-01, 1.61507997e-01, 8.66829497e-01, 6.32340555e-01,\n",
              "        1.51937463e-01],\n",
              "       [7.59845474e-01, 3.17996208e-01, 1.75507308e-01, 3.16542515e-01,\n",
              "        1.28231938e-01],\n",
              "       [7.10400109e-01, 4.10288741e-01, 2.33118440e-02, 8.62653047e-01,\n",
              "        8.17421154e-01],\n",
              "       [1.78125244e-01, 6.24607615e-04, 8.97367252e-01, 6.45146457e-01,\n",
              "        5.53054784e-01],\n",
              "       [2.93628311e-01, 5.05099600e-01, 6.93198411e-01, 6.27679607e-01,\n",
              "        6.80629472e-01]])"
            ]
          },
          "metadata": {
            "tags": []
          },
          "execution_count": 318
        }
      ]
    },
    {
      "cell_type": "code",
      "metadata": {
        "id": "SyGpeCr4Fzgd",
        "colab_type": "code",
        "outputId": "5e6eb5bd-d866-44a4-dab5-1950297825a5",
        "colab": {
          "base_uri": "https://localhost:8080/",
          "height": 34
        }
      },
      "source": [
        "a=np.random.randint(3,size=10)\n",
        "a"
      ],
      "execution_count": 319,
      "outputs": [
        {
          "output_type": "execute_result",
          "data": {
            "text/plain": [
              "array([1, 0, 1, 0, 0, 1, 0, 1, 1, 1])"
            ]
          },
          "metadata": {
            "tags": []
          },
          "execution_count": 319
        }
      ]
    },
    {
      "cell_type": "code",
      "metadata": {
        "id": "Eg6jp08_G6fP",
        "colab_type": "code",
        "outputId": "3481f6c2-bb72-46a2-b6f1-c234751657ed",
        "colab": {
          "base_uri": "https://localhost:8080/",
          "height": 34
        }
      },
      "source": [
        "result = np.where(a == 2)\n",
        "result"
      ],
      "execution_count": 320,
      "outputs": [
        {
          "output_type": "execute_result",
          "data": {
            "text/plain": [
              "(array([], dtype=int64),)"
            ]
          },
          "metadata": {
            "tags": []
          },
          "execution_count": 320
        }
      ]
    },
    {
      "cell_type": "code",
      "metadata": {
        "id": "twbDjQkSHM5t",
        "colab_type": "code",
        "outputId": "b3a0990d-671b-46be-d7c0-4e71eecf8f4a",
        "colab": {
          "base_uri": "https://localhost:8080/",
          "height": 34
        }
      },
      "source": [
        "np_matrix=np_matrix[result]\n",
        "np_matrix"
      ],
      "execution_count": 321,
      "outputs": [
        {
          "output_type": "execute_result",
          "data": {
            "text/plain": [
              "array([], shape=(0, 5), dtype=float64)"
            ]
          },
          "metadata": {
            "tags": []
          },
          "execution_count": 321
        }
      ]
    },
    {
      "cell_type": "markdown",
      "metadata": {
        "id": "nnGUvW0FmUyu",
        "colab_type": "text"
      },
      "source": [
        "#EX.3\n"
      ]
    },
    {
      "cell_type": "code",
      "metadata": {
        "id": "2_kLUz6MH2Lq",
        "colab_type": "code",
        "outputId": "7c9b7957-8090-4cf9-feae-7b31edcd9c39",
        "colab": {
          "base_uri": "https://localhost:8080/",
          "height": 282
        }
      },
      "source": [
        "import matplotlib.pyplot as plt\n",
        "x=np.arange(0,12,0.1)\n",
        "y=np.cos(x)\n",
        "plt.plot (x,y)"
      ],
      "execution_count": 322,
      "outputs": [
        {
          "output_type": "execute_result",
          "data": {
            "text/plain": [
              "[<matplotlib.lines.Line2D at 0x7f08668dc278>]"
            ]
          },
          "metadata": {
            "tags": []
          },
          "execution_count": 322
        },
        {
          "output_type": "display_data",
          "data": {
            "image/png": "[encoded data removed]",
            "text/plain": [
              "<Figure size 432x288 with 1 Axes>"
            ]
          },
          "metadata": {
            "tags": []
          }
        }
      ]
    },
    {
      "cell_type": "markdown",
      "metadata": {
        "id": "Cad3Kvubmaxc",
        "colab_type": "text"
      },
      "source": [
        "#EX.4 \n",
        "Select matching elements off input"
      ]
    },
    {
      "cell_type": "code",
      "metadata": {
        "id": "mqsN3SeXmdyf",
        "colab_type": "code",
        "outputId": "6439cc74-11c4-46f7-8e9a-fcf46cdceb04",
        "colab": {
          "base_uri": "https://localhost:8080/",
          "height": 34
        }
      },
      "source": [
        "import numpy as np\n",
        "np_test=np.arange(25).reshape(5,5)\n",
        "np_test[np_test%3==0]"
      ],
      "execution_count": 323,
      "outputs": [
        {
          "output_type": "execute_result",
          "data": {
            "text/plain": [
              "array([ 0,  3,  6,  9, 12, 15, 18, 21, 24])"
            ]
          },
          "metadata": {
            "tags": []
          },
          "execution_count": 323
        }
      ]
    },
    {
      "cell_type": "markdown",
      "metadata": {
        "id": "Ss6ie_XRmieO",
        "colab_type": "text"
      },
      "source": [
        "#EX.5 google"
      ]
    },
    {
      "cell_type": "code",
      "metadata": {
        "id": "RInaioGCmkR7",
        "colab_type": "code",
        "outputId": "1837f279-6536-48f1-8c25-6f5df98867ff",
        "colab": {
          "base_uri": "https://localhost:8080/",
          "height": 102
        }
      },
      "source": [
        "np_test=np.arange(25).reshape(5,5)\n",
        "np.fill_diagonal(np_test,0)\n",
        "np_test"
      ],
      "execution_count": 324,
      "outputs": [
        {
          "output_type": "execute_result",
          "data": {
            "text/plain": [
              "array([[ 0,  1,  2,  3,  4],\n",
              "       [ 5,  0,  7,  8,  9],\n",
              "       [10, 11,  0, 13, 14],\n",
              "       [15, 16, 17,  0, 19],\n",
              "       [20, 21, 22, 23,  0]])"
            ]
          },
          "metadata": {
            "tags": []
          },
          "execution_count": 324
        }
      ]
    },
    {
      "cell_type": "markdown",
      "metadata": {
        "id": "5P7GDgI4wlyv",
        "colab_type": "text"
      },
      "source": [
        "# Load Titanic Data\n",
        "Load titinic data from github /\n",
        "you must use the link https://raw.githubusercontent.com/Colejoby/DW/master/\n",
        "pls careful about delimiter,need to make sure that delimiter is not in data.\n"
      ]
    },
    {
      "cell_type": "code",
      "metadata": {
        "id": "4-cZwkSW3Woe",
        "colab_type": "code",
        "colab": {
          "base_uri": "https://localhost:8080/",
          "height": 34
        },
        "outputId": "b0f6d4a2-3870-4558-9f2b-629a5cb555e4"
      },
      "source": [
        "import numpy as np\n",
        "titanics = np.genfromtxt(\"https://raw.githubusercontent.com/Saranchana/DW/master/TitanicCSV.csv\", delimiter=\";\", missing_values = None, dtype=str)\n",
        "titanics.shape"
      ],
      "execution_count": 362,
      "outputs": [
        {
          "output_type": "execute_result",
          "data": {
            "text/plain": [
              "(1309, 12)"
            ]
          },
          "metadata": {
            "tags": []
          },
          "execution_count": 362
        }
      ]
    },
    {
      "cell_type": "code",
      "metadata": {
        "id": "SyunQBHSw5aB",
        "colab_type": "code",
        "outputId": "d2d00865-ed87-4c6f-b5d6-e53cb3bb85a0",
        "colab": {
          "base_uri": "https://localhost:8080/",
          "height": 238
        }
      },
      "source": [
        "titanics"
      ],
      "execution_count": 363,
      "outputs": [
        {
          "output_type": "execute_result",
          "data": {
            "text/plain": [
              "array([['First', 'Allen, Miss. Elisabeth Walton', 'Female', ...,\n",
              "        'Southampton', '2', 'Yes'],\n",
              "       ['First', 'Allison, Master. Hudson Trevor', 'Male', ...,\n",
              "        'Southampton', '11', 'Yes'],\n",
              "       ['First', 'Allison, Miss. Helen Loraine', 'Female', ...,\n",
              "        'Southampton', '', 'No'],\n",
              "       ...,\n",
              "       ['Third', 'Zakarian, Mr. Mapriededer', 'Male', ..., 'Cherbourg',\n",
              "        '', 'No'],\n",
              "       ['Third', 'Zakarian, Mr. Ortin', 'Male', ..., 'Cherbourg', '',\n",
              "        'No'],\n",
              "       ['Third', 'Zimmerman, Mr. Leo', 'Male', ..., 'Southampton', '',\n",
              "        'No']], dtype='<U82')"
            ]
          },
          "metadata": {
            "tags": []
          },
          "execution_count": 363
        }
      ]
    },
    {
      "cell_type": "markdown",
      "metadata": {
        "id": "w5RuCppL5GLB",
        "colab_type": "text"
      },
      "source": [
        "##Remove unwanted features\n"
      ]
    },
    {
      "cell_type": "code",
      "metadata": {
        "id": "ORm6umBR3yeQ",
        "colab_type": "code",
        "colab": {
          "base_uri": "https://localhost:8080/",
          "height": 68
        },
        "outputId": "86d3c622-438b-4c35-a328-3f1170ec7fee"
      },
      "source": [
        "titanics[0,:]"
      ],
      "execution_count": 364,
      "outputs": [
        {
          "output_type": "execute_result",
          "data": {
            "text/plain": [
              "array(['First', 'Allen, Miss. Elisabeth Walton', 'Female', '29.0', '0',\n",
              "       '0', '24160', '211.3375', 'B5', 'Southampton', '2', 'Yes'],\n",
              "      dtype='<U82')"
            ]
          },
          "metadata": {
            "tags": []
          },
          "execution_count": 364
        }
      ]
    },
    {
      "cell_type": "code",
      "metadata": {
        "id": "-v_NDs024VSz",
        "colab_type": "code",
        "outputId": "b53134b1-74c7-47ee-b42f-637b71c03533",
        "colab": {
          "base_uri": "https://localhost:8080/",
          "height": 34
        }
      },
      "source": [
        "titanics_clean=np.delete(titanics,[1,6,7,8,9,10],1)\n",
        "titanics_clean[0,:]"
      ],
      "execution_count": 365,
      "outputs": [
        {
          "output_type": "execute_result",
          "data": {
            "text/plain": [
              "array(['First', 'Female', '29.0', '0', '0', 'Yes'], dtype='<U82')"
            ]
          },
          "metadata": {
            "tags": []
          },
          "execution_count": 365
        }
      ]
    },
    {
      "cell_type": "markdown",
      "metadata": {
        "id": "zQoEA9msQNK9",
        "colab_type": "text"
      },
      "source": [
        "#Remove row with missing value"
      ]
    },
    {
      "cell_type": "code",
      "metadata": {
        "id": "u_EX87huQRG7",
        "colab_type": "code",
        "outputId": "ec499e3a-1e2a-4661-f5a2-c1583e558192",
        "colab": {
          "base_uri": "https://localhost:8080/",
          "height": 34
        }
      },
      "source": [
        "rows, cols = np.where(titanics==None)\n",
        "print(str(len(np.unique(rows)))+\" \"+str(len(np.unique(cols))))"
      ],
      "execution_count": 366,
      "outputs": [
        {
          "output_type": "stream",
          "text": [
            "0 0\n"
          ],
          "name": "stdout"
        }
      ]
    },
    {
      "cell_type": "code",
      "metadata": {
        "id": "zdHUMbPSQ-Jt",
        "colab_type": "code",
        "outputId": "2ef566ea-fd3f-4309-911c-b39e4e77ac3e",
        "colab": {
          "base_uri": "https://localhost:8080/",
          "height": 34
        }
      },
      "source": [
        "rows,cols = np.where(titanics_clean== '')\n",
        "print(str(len(np.unique(rows)))+ \" \" +str(len(np.unique(cols))))"
      ],
      "execution_count": 367,
      "outputs": [
        {
          "output_type": "stream",
          "text": [
            "263 1\n"
          ],
          "name": "stdout"
        }
      ]
    },
    {
      "cell_type": "code",
      "metadata": {
        "id": "blIwP8K9ROq0",
        "colab_type": "code",
        "outputId": "94818f12-ea1a-46c8-a908-86ed2b5baae4",
        "colab": {
          "base_uri": "https://localhost:8080/",
          "height": 34
        }
      },
      "source": [
        "np.unique(cols)"
      ],
      "execution_count": 368,
      "outputs": [
        {
          "output_type": "execute_result",
          "data": {
            "text/plain": [
              "array([2])"
            ]
          },
          "metadata": {
            "tags": []
          },
          "execution_count": 368
        }
      ]
    },
    {
      "cell_type": "code",
      "metadata": {
        "id": "dcv7bNVq8gHn",
        "colab_type": "code",
        "colab": {
          "base_uri": "https://localhost:8080/",
          "height": 34
        },
        "outputId": "8221e1d2-f2c0-486c-91be-b39a59121c8d"
      },
      "source": [
        "titanics= np.delete(titanics_clean,2,1)\n",
        "titanics[0,:]"
      ],
      "execution_count": 372,
      "outputs": [
        {
          "output_type": "execute_result",
          "data": {
            "text/plain": [
              "array(['First', 'Female', '0', '0', 'Yes'], dtype='<U82')"
            ]
          },
          "metadata": {
            "tags": []
          },
          "execution_count": 372
        }
      ]
    },
    {
      "cell_type": "markdown",
      "metadata": {
        "id": "oldMYoNLsekk",
        "colab_type": "text"
      },
      "source": [
        "#Exploration Passenger Class"
      ]
    },
    {
      "cell_type": "code",
      "metadata": {
        "id": "7Q7LxdC8shvt",
        "colab_type": "code",
        "colab": {
          "base_uri": "https://localhost:8080/",
          "height": 34
        },
        "outputId": "ac724394-4dd6-44aa-896d-62e35c63e211"
      },
      "source": [
        "passenger_class =np.unique(titanics[:,0])\n",
        "passenger_class"
      ],
      "execution_count": 373,
      "outputs": [
        {
          "output_type": "execute_result",
          "data": {
            "text/plain": [
              "array(['First', 'Second', 'Third'], dtype='<U82')"
            ]
          },
          "metadata": {
            "tags": []
          },
          "execution_count": 373
        }
      ]
    },
    {
      "cell_type": "code",
      "metadata": {
        "id": "tqsiQPkispSk",
        "colab_type": "code",
        "colab": {
          "base_uri": "https://localhost:8080/",
          "height": 34
        },
        "outputId": "6fc31fe0-e6be-4c6e-d3da-ab52a34bf695"
      },
      "source": [
        "passenger_class_value = [sum (titanics[:,0] == passenger_class[0]),\n",
        "                         sum (titanics[:,0] == passenger_class[1]),\n",
        "                         sum (titanics[:,0] == passenger_class[2])]\n",
        "passenger_class_value"
      ],
      "execution_count": 374,
      "outputs": [
        {
          "output_type": "execute_result",
          "data": {
            "text/plain": [
              "[323, 277, 709]"
            ]
          },
          "metadata": {
            "tags": []
          },
          "execution_count": 374
        }
      ]
    },
    {
      "cell_type": "markdown",
      "metadata": {
        "id": "vbh65bud8wjy",
        "colab_type": "text"
      },
      "source": [
        "#EX.6\n"
      ]
    },
    {
      "cell_type": "code",
      "metadata": {
        "id": "fjUsZfQ35VEO",
        "colab_type": "code",
        "outputId": "bc619e50-e822-4dce-84b8-e2a98638dba7",
        "colab": {
          "base_uri": "https://localhost:8080/",
          "height": 282
        }
      },
      "source": [
        "import matplotlib.pyplot as plt\n",
        "\n",
        "sex=np.unique(titanics[:,1])\n",
        "sex_value=[sum(titanics[:,1]==sex[0]),sum(titanics[:,1]==sex[1])]\n",
        "\n",
        "survived=np.unique(titanics[:,4])\n",
        "survived_value=[sum(titanics[:,4]==survived[0]),sum(titanics[:,4]==survived[1])]\n",
        "\n",
        "fig,two=plt.subplots(1,2)\n",
        "two[0].bar(sex,sex_value)\n",
        "two[1].bar(survived,survived_value)\n"
      ],
      "execution_count": 376,
      "outputs": [
        {
          "output_type": "execute_result",
          "data": {
            "text/plain": [
              "<BarContainer object of 2 artists>"
            ]
          },
          "metadata": {
            "tags": []
          },
          "execution_count": 376
        },
        {
          "output_type": "display_data",
          "data": {
            "image/png": "[encoded data removed]",
            "text/plain": [
              "<Figure size 432x288 with 2 Axes>"
            ]
          },
          "metadata": {
            "tags": []
          }
        }
      ]
    },
    {
      "cell_type": "markdown",
      "metadata": {
        "id": "HMFiW3D3N1Tt",
        "colab_type": "text"
      },
      "source": [
        "#String to Numerical & Label Encoder\n"
      ]
    },
    {
      "cell_type": "code",
      "metadata": {
        "id": "Je2qm4J3N-X0",
        "colab_type": "code",
        "outputId": "15e471ac-4cc1-4141-b521-0ee4cc42290a",
        "colab": {
          "base_uri": "https://localhost:8080/",
          "height": 136
        }
      },
      "source": [
        "titanics[titanics == passenger_class[0]]=0\n",
        "titanics[titanics == passenger_class[1]]=1\n",
        "titanics[titanics == passenger_class[2]]=2\n",
        "titanics[titanics == sex[0]]=0\n",
        "titanics[titanics == sex[1]]=1\n",
        "titanics[titanics == survived[0]]=0\n",
        "titanics[titanics == survived[1]]=1\n",
        "titanics"
      ],
      "execution_count": 377,
      "outputs": [
        {
          "output_type": "execute_result",
          "data": {
            "text/plain": [
              "array([['0', '0', '0', '0', '1'],\n",
              "       ['0', '1', '1', '2', '1'],\n",
              "       ['0', '0', '1', '2', '0'],\n",
              "       ...,\n",
              "       ['2', '1', '0', '0', '0'],\n",
              "       ['2', '1', '0', '0', '0'],\n",
              "       ['2', '1', '0', '0', '0']], dtype='<U82')"
            ]
          },
          "metadata": {
            "tags": []
          },
          "execution_count": 377
        }
      ]
    },
    {
      "cell_type": "markdown",
      "metadata": {
        "id": "96Dc4NqauL2_",
        "colab_type": "text"
      },
      "source": [
        "#Separate Data & Label"
      ]
    },
    {
      "cell_type": "code",
      "metadata": {
        "id": "ZnQ6YFZcuPG-",
        "colab_type": "code",
        "colab": {
          "base_uri": "https://localhost:8080/",
          "height": 34
        },
        "outputId": "5ddbbc07-1442-46be-db55-59330d92705f"
      },
      "source": [
        "titanics = titanics.astype('float')\n",
        "titanics.dtype"
      ],
      "execution_count": 378,
      "outputs": [
        {
          "output_type": "execute_result",
          "data": {
            "text/plain": [
              "dtype('float64')"
            ]
          },
          "metadata": {
            "tags": []
          },
          "execution_count": 378
        }
      ]
    },
    {
      "cell_type": "code",
      "metadata": {
        "id": "Db-F9vFG1B4g",
        "colab_type": "code",
        "colab": {
          "base_uri": "https://localhost:8080/",
          "height": 34
        },
        "outputId": "cca969cd-fdb6-454a-bf5a-c07dfbbb5b91"
      },
      "source": [
        "y=titanics[:,-1]\n",
        "x=np.delete(titanics,-1,1)\n",
        "x.shape"
      ],
      "execution_count": 379,
      "outputs": [
        {
          "output_type": "execute_result",
          "data": {
            "text/plain": [
              "(1309, 4)"
            ]
          },
          "metadata": {
            "tags": []
          },
          "execution_count": 379
        }
      ]
    },
    {
      "cell_type": "markdown",
      "metadata": {
        "id": "awPAgdaQ806Y",
        "colab_type": "text"
      },
      "source": [
        "#EX.7"
      ]
    },
    {
      "cell_type": "code",
      "metadata": {
        "id": "iw0tQXGJ82Aq",
        "colab_type": "code",
        "colab": {
          "base_uri": "https://localhost:8080/",
          "height": 136
        },
        "outputId": "da13d515-7b6d-4955-bada-352b52de177f"
      },
      "source": [
        "x_norm = (x-np.min(x,0)) / (np.max(x,0)- np.min(x,0))\n",
        "x_norm"
      ],
      "execution_count": 380,
      "outputs": [
        {
          "output_type": "execute_result",
          "data": {
            "text/plain": [
              "array([[0.        , 0.        , 0.        , 0.        ],\n",
              "       [0.        , 1.        , 0.125     , 0.22222222],\n",
              "       [0.        , 0.        , 0.125     , 0.22222222],\n",
              "       ...,\n",
              "       [1.        , 1.        , 0.        , 0.        ],\n",
              "       [1.        , 1.        , 0.        , 0.        ],\n",
              "       [1.        , 1.        , 0.        , 0.        ]])"
            ]
          },
          "metadata": {
            "tags": []
          },
          "execution_count": 380
        }
      ]
    },
    {
      "cell_type": "markdown",
      "metadata": {
        "id": "zNWfFD_V82lJ",
        "colab_type": "text"
      },
      "source": [
        "#EX.8"
      ]
    },
    {
      "cell_type": "code",
      "metadata": {
        "id": "2jfKAcBS83dm",
        "colab_type": "code",
        "colab": {}
      },
      "source": [
        ""
      ],
      "execution_count": 0,
      "outputs": []
    }
  ]
}