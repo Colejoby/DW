{
  "nbformat": 4,
  "nbformat_minor": 0,
  "metadata": {
    "colab": {
      "name": "Untitled0.ipynb",
      "provenance": [],
      "include_colab_link": true
    },
    "kernelspec": {
      "name": "python3",
      "display_name": "Python 3"
    }
  },
  "cells": [
    {
      "cell_type": "markdown",
      "metadata": {
        "id": "view-in-github",
        "colab_type": "text"
      },
      "source": [
        "<a href=\"https://colab.research.google.com/github/Colejoby/DW/blob/master/EX1%2C2%2C3%2C4%2C5.ipynb\" target=\"_parent\"><img src=\"https://colab.research.google.com/assets/colab-badge.svg\" alt=\"Open In Colab\"/></a>"
      ]
    },
    {
      "cell_type": "code",
      "metadata": {
        "id": "4SBwAaziiQJU",
        "colab_type": "code",
        "colab": {}
      },
      "source": [
        ""
      ],
      "execution_count": 0,
      "outputs": []
    },
    {
      "cell_type": "markdown",
      "metadata": {
        "id": "x4twIJVIiRNP",
        "colab_type": "text"
      },
      "source": [
        "# Hello Dude!\n",
        "## How to A\n",
        "### Shifit is missing\n",
        "This is what the hack\n"
      ]
    },
    {
      "cell_type": "code",
      "metadata": {
        "id": "k34uFbQeiZio",
        "colab_type": "code",
        "outputId": "61475488-b3b0-46fe-bca1-834a507d9b58",
        "colab": {
          "base_uri": "https://localhost:8080/",
          "height": 34
        }
      },
      "source": [
        "print(\"Hello dude\")"
      ],
      "execution_count": 0,
      "outputs": [
        {
          "output_type": "stream",
          "text": [
            "Hello dude\n"
          ],
          "name": "stdout"
        }
      ]
    },
    {
      "cell_type": "code",
      "metadata": {
        "id": "18P27wI7i2jz",
        "colab_type": "code",
        "colab": {}
      },
      "source": [
        ""
      ],
      "execution_count": 0,
      "outputs": []
    },
    {
      "cell_type": "markdown",
      "metadata": {
        "id": "gE4uCfHFjZA3",
        "colab_type": "text"
      },
      "source": [
        "#Declare Variable\n",
        "###how to declare variable in PyThon\n"
      ]
    },
    {
      "cell_type": "code",
      "metadata": {
        "id": "jOckgWABjhy2",
        "colab_type": "code",
        "outputId": "e1c3e1b9-a650-4c09-82b6-fecbdb399f3d",
        "colab": {
          "base_uri": "https://localhost:8080/",
          "height": 34
        }
      },
      "source": [
        "score = 100\n",
        "name = \"Jirawat\"\n",
        "print(\" Name is \" + name + \" score is \"+ str(score))"
      ],
      "execution_count": 0,
      "outputs": [
        {
          "output_type": "stream",
          "text": [
            " Name is Jirawat score is 100\n"
          ],
          "name": "stdout"
        }
      ]
    },
    {
      "cell_type": "code",
      "metadata": {
        "id": "yYgllk1mjx_V",
        "colab_type": "code",
        "outputId": "38e74e69-000f-47a6-fe84-e626d8cae112",
        "colab": {
          "base_uri": "https://localhost:8080/",
          "height": 34
        }
      },
      "source": [
        "a = 2\n",
        "b = 3\n",
        "c = a * b\n",
        "print(c)"
      ],
      "execution_count": 0,
      "outputs": [
        {
          "output_type": "stream",
          "text": [
            "6\n"
          ],
          "name": "stdout"
        }
      ]
    },
    {
      "cell_type": "code",
      "metadata": {
        "id": "ESuKmYerkUlm",
        "colab_type": "code",
        "colab": {}
      },
      "source": [
        ""
      ],
      "execution_count": 0,
      "outputs": []
    },
    {
      "cell_type": "markdown",
      "metadata": {
        "id": "oAlmSHuqmz4n",
        "colab_type": "text"
      },
      "source": [
        "#List\n",
        "###How to use list PyThon\n"
      ]
    },
    {
      "cell_type": "code",
      "metadata": {
        "id": "k3mj0dLQm6Mb",
        "colab_type": "code",
        "outputId": "8bef262e-4184-44e1-91f3-4d31c7d36bd6",
        "colab": {
          "base_uri": "https://localhost:8080/",
          "height": 34
        }
      },
      "source": [
        "mylist = []\n",
        "mylist.append(\"Jirawat\")\n",
        "mylist.append(200)\n",
        "mylist"
      ],
      "execution_count": 0,
      "outputs": [
        {
          "output_type": "execute_result",
          "data": {
            "text/plain": [
              "['Jirawat', 200]"
            ]
          },
          "metadata": {
            "tags": []
          },
          "execution_count": 15
        }
      ]
    },
    {
      "cell_type": "code",
      "metadata": {
        "id": "lQ2zmlTinJRb",
        "colab_type": "code",
        "colab": {}
      },
      "source": [
        ""
      ],
      "execution_count": 0,
      "outputs": []
    },
    {
      "cell_type": "markdown",
      "metadata": {
        "id": "uGtoYK4goIpp",
        "colab_type": "text"
      },
      "source": [
        "##How to count data in list"
      ]
    },
    {
      "cell_type": "code",
      "metadata": {
        "id": "SF8wyuIRoLdv",
        "colab_type": "code",
        "outputId": "db090c54-8b80-4373-9717-5ae7d18d9078",
        "colab": {
          "base_uri": "https://localhost:8080/",
          "height": 34
        }
      },
      "source": [
        "len(mylist)"
      ],
      "execution_count": 0,
      "outputs": [
        {
          "output_type": "execute_result",
          "data": {
            "text/plain": [
              "2"
            ]
          },
          "metadata": {
            "tags": []
          },
          "execution_count": 16
        }
      ]
    },
    {
      "cell_type": "code",
      "metadata": {
        "id": "XRnc5iDboPf3",
        "colab_type": "code",
        "colab": {}
      },
      "source": [
        ""
      ],
      "execution_count": 0,
      "outputs": []
    },
    {
      "cell_type": "markdown",
      "metadata": {
        "id": "9DmbK-sloUg4",
        "colab_type": "text"
      },
      "source": [
        "#If-Else PyThon\n",
        "###How to use if-else in python"
      ]
    },
    {
      "cell_type": "code",
      "metadata": {
        "id": "_ASzi6dpobSX",
        "colab_type": "code",
        "outputId": "4bc55ab0-1e0e-485b-f86a-297741a3a82a",
        "colab": {
          "base_uri": "https://localhost:8080/",
          "height": 34
        }
      },
      "source": [
        "if mylist[1] > 100:\n",
        " print(\"Pass\")"
      ],
      "execution_count": 0,
      "outputs": [
        {
          "output_type": "stream",
          "text": [
            "Pass\n"
          ],
          "name": "stdout"
        }
      ]
    },
    {
      "cell_type": "code",
      "metadata": {
        "id": "cRoYjKACownX",
        "colab_type": "code",
        "outputId": "de344e81-c429-4ce6-e211-f3246b7a9365",
        "colab": {
          "base_uri": "https://localhost:8080/",
          "height": 34
        }
      },
      "source": [
        "if mylist[1] > 100:\n",
        "  name = mylist[0]\n",
        "  score = mylist[1]\n",
        "  print(name+\" \"+str(score))"
      ],
      "execution_count": 0,
      "outputs": [
        {
          "output_type": "stream",
          "text": [
            "Jirawat 200\n"
          ],
          "name": "stdout"
        }
      ]
    },
    {
      "cell_type": "code",
      "metadata": {
        "id": "YwbluSA0qHoN",
        "colab_type": "code",
        "outputId": "f5572044-126b-4f77-89a3-2bdfb97b59f1",
        "colab": {
          "base_uri": "https://localhost:8080/",
          "height": 34
        }
      },
      "source": [
        "score = 5 \n",
        "if score > 50:\n",
        "  print(\"A\")\n",
        "elif score > 20:\n",
        "  print(\"B\")\n",
        "else:\n",
        "  print(\"C\")\n",
        "  if score ==0:\n",
        "    print(\"F\")"
      ],
      "execution_count": 0,
      "outputs": [
        {
          "output_type": "stream",
          "text": [
            "C\n"
          ],
          "name": "stdout"
        }
      ]
    },
    {
      "cell_type": "code",
      "metadata": {
        "id": "9cIgnxeYqcjv",
        "colab_type": "code",
        "colab": {}
      },
      "source": [
        ""
      ],
      "execution_count": 0,
      "outputs": []
    },
    {
      "cell_type": "markdown",
      "metadata": {
        "id": "_0hbMWObqh8Z",
        "colab_type": "text"
      },
      "source": [
        "#For Loop in PyThon\n",
        "###How to use for loop"
      ]
    },
    {
      "cell_type": "code",
      "metadata": {
        "id": "5XWFii-LqqzP",
        "colab_type": "code",
        "outputId": "74b0ca4a-f1ee-41ab-f03f-de4043992d6c",
        "colab": {
          "base_uri": "https://localhost:8080/",
          "height": 204
        }
      },
      "source": [
        "summation = 0\n",
        "for i in range(0,10):\n",
        "  print(str(i))\n",
        "  summation = summation + 1\n",
        "print((\"The summation result is \")+ str(summation))"
      ],
      "execution_count": 0,
      "outputs": [
        {
          "output_type": "stream",
          "text": [
            "0\n",
            "1\n",
            "2\n",
            "3\n",
            "4\n",
            "5\n",
            "6\n",
            "7\n",
            "8\n",
            "9\n",
            "The summation result is 10\n"
          ],
          "name": "stdout"
        }
      ]
    },
    {
      "cell_type": "code",
      "metadata": {
        "id": "IOydvsLqrCqU",
        "colab_type": "code",
        "outputId": "dd8eea89-becb-48a6-93c6-cf719358210c",
        "colab": {
          "base_uri": "https://localhost:8080/",
          "height": 187
        }
      },
      "source": [
        "summation = []\n",
        "a = 0\n",
        "for i in range(0,10):\n",
        "  a = a + 5\n",
        "  summation.append(a)\n",
        "for i in summation:\n",
        "  print(str(i))"
      ],
      "execution_count": 0,
      "outputs": [
        {
          "output_type": "stream",
          "text": [
            "5\n",
            "10\n",
            "15\n",
            "20\n",
            "25\n",
            "30\n",
            "35\n",
            "40\n",
            "45\n",
            "50\n"
          ],
          "name": "stdout"
        }
      ]
    },
    {
      "cell_type": "code",
      "metadata": {
        "id": "9oBv0knnrYbw",
        "colab_type": "code",
        "colab": {}
      },
      "source": [
        ""
      ],
      "execution_count": 0,
      "outputs": []
    },
    {
      "cell_type": "markdown",
      "metadata": {
        "id": "gJ-WDNf0sjob",
        "colab_type": "text"
      },
      "source": [
        "#For=Each Loop\n"
      ]
    },
    {
      "cell_type": "code",
      "metadata": {
        "id": "CKMtvOz7sltF",
        "colab_type": "code",
        "outputId": "fc5e7d4e-a799-480c-f5a5-28466d904de3",
        "colab": {
          "base_uri": "https://localhost:8080/",
          "height": 187
        }
      },
      "source": [
        "for i in summation:\n",
        "  print(str(i))"
      ],
      "execution_count": 0,
      "outputs": [
        {
          "output_type": "stream",
          "text": [
            "0\n",
            "1\n",
            "2\n",
            "3\n",
            "4\n",
            "5\n",
            "6\n",
            "7\n",
            "8\n",
            "9\n"
          ],
          "name": "stdout"
        }
      ]
    },
    {
      "cell_type": "code",
      "metadata": {
        "id": "UYhtoTJEspPI",
        "colab_type": "code",
        "colab": {}
      },
      "source": [
        ""
      ],
      "execution_count": 0,
      "outputs": []
    },
    {
      "cell_type": "markdown",
      "metadata": {
        "id": "eClXHlPOvUeq",
        "colab_type": "text"
      },
      "source": [
        "#NumPy\n",
        "###Library for matrix operation"
      ]
    },
    {
      "cell_type": "markdown",
      "metadata": {
        "id": "BZTiIRgaxJdi",
        "colab_type": "text"
      },
      "source": [
        "###Load numpy library"
      ]
    },
    {
      "cell_type": "code",
      "metadata": {
        "id": "x41QvSNNvWvT",
        "colab_type": "code",
        "colab": {}
      },
      "source": [
        "import numpy as np"
      ],
      "execution_count": 0,
      "outputs": []
    },
    {
      "cell_type": "markdown",
      "metadata": {
        "id": "lGaeruSuwXJ6",
        "colab_type": "text"
      },
      "source": [
        "###Create array in numpy"
      ]
    },
    {
      "cell_type": "code",
      "metadata": {
        "id": "KZlJroB7vgyU",
        "colab_type": "code",
        "outputId": "3107db63-b04e-4420-d7be-fb86883a6103",
        "colab": {
          "base_uri": "https://localhost:8080/",
          "height": 34
        }
      },
      "source": [
        "l = [1,2,3,4]\n",
        "np_array = np.array(l)\n",
        "type(np_array)"
      ],
      "execution_count": 0,
      "outputs": [
        {
          "output_type": "execute_result",
          "data": {
            "text/plain": [
              "numpy.ndarray"
            ]
          },
          "metadata": {
            "tags": []
          },
          "execution_count": 48
        }
      ]
    },
    {
      "cell_type": "markdown",
      "metadata": {
        "id": "I9_8BAsbxSNy",
        "colab_type": "text"
      },
      "source": [
        "##Create Matrix"
      ]
    },
    {
      "cell_type": "markdown",
      "metadata": {
        "id": "trQDt8U8wf_C",
        "colab_type": "text"
      },
      "source": [
        "###Create Matrix in Array formal"
      ]
    },
    {
      "cell_type": "code",
      "metadata": {
        "id": "_uhuXzx4v6mo",
        "colab_type": "code",
        "outputId": "569600ec-1566-45ab-e0e9-baecc788ab7a",
        "colab": {
          "base_uri": "https://localhost:8080/",
          "height": 68
        }
      },
      "source": [
        "np_matrix = np.array([[1,2],[3,4],[5,6]])\n",
        "np_matrix"
      ],
      "execution_count": 0,
      "outputs": [
        {
          "output_type": "execute_result",
          "data": {
            "text/plain": [
              "array([[1, 2],\n",
              "       [3, 4],\n",
              "       [5, 6]])"
            ]
          },
          "metadata": {
            "tags": []
          },
          "execution_count": 51
        }
      ]
    },
    {
      "cell_type": "markdown",
      "metadata": {
        "id": "ptNCPAWDxama",
        "colab_type": "text"
      },
      "source": [
        "##Create Matrix Size\n",
        "###Check the dimension of this matrix"
      ]
    },
    {
      "cell_type": "code",
      "metadata": {
        "id": "fi1puMvAwskQ",
        "colab_type": "code",
        "outputId": "4e69fca6-033b-49d0-b664-95212c5bbb8f",
        "colab": {
          "base_uri": "https://localhost:8080/",
          "height": 34
        }
      },
      "source": [
        "np.size(np_matrix,0)"
      ],
      "execution_count": 0,
      "outputs": [
        {
          "output_type": "execute_result",
          "data": {
            "text/plain": [
              "3"
            ]
          },
          "metadata": {
            "tags": []
          },
          "execution_count": 52
        }
      ]
    },
    {
      "cell_type": "code",
      "metadata": {
        "id": "SEhXHQ_9xqU9",
        "colab_type": "code",
        "outputId": "dfd3fd71-21c6-4077-ac2a-797a1cd84062",
        "colab": {
          "base_uri": "https://localhost:8080/",
          "height": 34
        }
      },
      "source": [
        "np.size(np_matrix,1)"
      ],
      "execution_count": 0,
      "outputs": [
        {
          "output_type": "execute_result",
          "data": {
            "text/plain": [
              "2"
            ]
          },
          "metadata": {
            "tags": []
          },
          "execution_count": 53
        }
      ]
    },
    {
      "cell_type": "markdown",
      "metadata": {
        "id": "192sAKd0x5wS",
        "colab_type": "text"
      },
      "source": [
        "##Check Matrix Properties\n",
        "###Check other matrix properties"
      ]
    },
    {
      "cell_type": "code",
      "metadata": {
        "id": "LRaeYT6px335",
        "colab_type": "code",
        "outputId": "5c99d0eb-9a9a-4c06-c8bf-70506a5165cb",
        "colab": {
          "base_uri": "https://localhost:8080/",
          "height": 34
        }
      },
      "source": [
        "np_matrix.shape"
      ],
      "execution_count": 0,
      "outputs": [
        {
          "output_type": "execute_result",
          "data": {
            "text/plain": [
              "(3, 2)"
            ]
          },
          "metadata": {
            "tags": []
          },
          "execution_count": 54
        }
      ]
    },
    {
      "cell_type": "code",
      "metadata": {
        "id": "TFb1TWK8yFIp",
        "colab_type": "code",
        "outputId": "ede5fdbc-6c97-4e8a-b857-702395001240",
        "colab": {
          "base_uri": "https://localhost:8080/",
          "height": 34
        }
      },
      "source": [
        "np_matrix.ndim"
      ],
      "execution_count": 0,
      "outputs": [
        {
          "output_type": "execute_result",
          "data": {
            "text/plain": [
              "2"
            ]
          },
          "metadata": {
            "tags": []
          },
          "execution_count": 55
        }
      ]
    },
    {
      "cell_type": "code",
      "metadata": {
        "id": "exz9RfJlyHW5",
        "colab_type": "code",
        "outputId": "3c52fd2f-59de-4de2-e569-96c69844d923",
        "colab": {
          "base_uri": "https://localhost:8080/",
          "height": 34
        }
      },
      "source": [
        "np_matrix.size"
      ],
      "execution_count": 0,
      "outputs": [
        {
          "output_type": "execute_result",
          "data": {
            "text/plain": [
              "6"
            ]
          },
          "metadata": {
            "tags": []
          },
          "execution_count": 56
        }
      ]
    },
    {
      "cell_type": "markdown",
      "metadata": {
        "id": "Z9cchvpByaSb",
        "colab_type": "text"
      },
      "source": [
        "##Matrix can be mix type (auto casting)\n",
        "###Create Matrix with Mix Data Type"
      ]
    },
    {
      "cell_type": "code",
      "metadata": {
        "id": "-fGLhuU4yKyI",
        "colab_type": "code",
        "outputId": "bfc62ad5-471c-4588-fa7c-e4e37c335c31",
        "colab": {
          "base_uri": "https://localhost:8080/",
          "height": 68
        }
      },
      "source": [
        "np_mix_matrix = np.array([['one',2],['three',4],['five',6]])\n",
        "np_mix_matrix"
      ],
      "execution_count": 0,
      "outputs": [
        {
          "output_type": "execute_result",
          "data": {
            "text/plain": [
              "array([['one', '2'],\n",
              "       ['three', '4'],\n",
              "       ['five', '6']], dtype='<U5')"
            ]
          },
          "metadata": {
            "tags": []
          },
          "execution_count": 60
        }
      ]
    },
    {
      "cell_type": "markdown",
      "metadata": {
        "id": "YD_nhrL9zTIs",
        "colab_type": "text"
      },
      "source": [
        "##Access data element\n",
        "###Access matrix element"
      ]
    },
    {
      "cell_type": "code",
      "metadata": {
        "id": "ForLVUTEzFq5",
        "colab_type": "code",
        "outputId": "3f3f220d-eb2e-4eae-f53b-61ba75335edf",
        "colab": {
          "base_uri": "https://localhost:8080/",
          "height": 34
        }
      },
      "source": [
        "np_mix_matrix[0,1]"
      ],
      "execution_count": 0,
      "outputs": [
        {
          "output_type": "execute_result",
          "data": {
            "text/plain": [
              "'2'"
            ]
          },
          "metadata": {
            "tags": []
          },
          "execution_count": 61
        }
      ]
    },
    {
      "cell_type": "markdown",
      "metadata": {
        "id": "RVm6C_r8z0Z1",
        "colab_type": "text"
      },
      "source": [
        "###Access all column of matrix"
      ]
    },
    {
      "cell_type": "code",
      "metadata": {
        "id": "mIXdPLMizquh",
        "colab_type": "code",
        "outputId": "f20df621-e822-41ff-d832-3b3d3d72ab0d",
        "colab": {
          "base_uri": "https://localhost:8080/",
          "height": 34
        }
      },
      "source": [
        "np_mix_matrix[:,0]"
      ],
      "execution_count": 0,
      "outputs": [
        {
          "output_type": "execute_result",
          "data": {
            "text/plain": [
              "array(['one', 'three', 'five'], dtype='<U5')"
            ]
          },
          "metadata": {
            "tags": []
          },
          "execution_count": 64
        }
      ]
    },
    {
      "cell_type": "markdown",
      "metadata": {
        "id": "92J79Yn1z-Xz",
        "colab_type": "text"
      },
      "source": [
        "###Access all row of matrix"
      ]
    },
    {
      "cell_type": "code",
      "metadata": {
        "id": "Rxas0mTXz7vx",
        "colab_type": "code",
        "outputId": "5b827c90-d528-4193-b0ee-49de6ae31710",
        "colab": {
          "base_uri": "https://localhost:8080/",
          "height": 34
        }
      },
      "source": [
        "np_mix_matrix[0,]"
      ],
      "execution_count": 0,
      "outputs": [
        {
          "output_type": "execute_result",
          "data": {
            "text/plain": [
              "array(['one', '2'], dtype='<U5')"
            ]
          },
          "metadata": {
            "tags": []
          },
          "execution_count": 65
        }
      ]
    },
    {
      "cell_type": "markdown",
      "metadata": {
        "id": "GHtyC5ck0PNT",
        "colab_type": "text"
      },
      "source": [
        "##Access Data & Type Casting\n",
        "###Access element from row 0 to row 1 "
      ]
    },
    {
      "cell_type": "code",
      "metadata": {
        "id": "JDu5Ct3X0Hx5",
        "colab_type": "code",
        "outputId": "ae124320-1cea-470e-fad2-709eff05565c",
        "colab": {
          "base_uri": "https://localhost:8080/",
          "height": 51
        }
      },
      "source": [
        "np_mix_matrix[0:2,]"
      ],
      "execution_count": 0,
      "outputs": [
        {
          "output_type": "execute_result",
          "data": {
            "text/plain": [
              "array([['one', '2'],\n",
              "       ['three', '4']], dtype='<U5')"
            ]
          },
          "metadata": {
            "tags": []
          },
          "execution_count": 66
        }
      ]
    },
    {
      "cell_type": "markdown",
      "metadata": {
        "id": "UNT_-tTy1sds",
        "colab_type": "text"
      },
      "source": [
        "###Type casting ndarray object"
      ]
    },
    {
      "cell_type": "code",
      "metadata": {
        "id": "R6JoD-x91Z-n",
        "colab_type": "code",
        "outputId": "b26fdbae-3131-426a-c3cd-43f3ed6e3419",
        "colab": {
          "base_uri": "https://localhost:8080/",
          "height": 34
        }
      },
      "source": [
        "np.array(np_mix_matrix[:,1], dtype = int)"
      ],
      "execution_count": 0,
      "outputs": [
        {
          "output_type": "execute_result",
          "data": {
            "text/plain": [
              "array([2, 4, 6])"
            ]
          },
          "metadata": {
            "tags": []
          },
          "execution_count": 71
        }
      ]
    },
    {
      "cell_type": "markdown",
      "metadata": {
        "id": "0j-3DYL_2LXf",
        "colab_type": "text"
      },
      "source": [
        "##Generate Matrix of Zeros & Ones \n",
        "###Create matrix of zeros "
      ]
    },
    {
      "cell_type": "code",
      "metadata": {
        "id": "bQcU5VL012RB",
        "colab_type": "code",
        "outputId": "8807cdc2-39a1-4f43-d29e-af61fd902376",
        "colab": {
          "base_uri": "https://localhost:8080/",
          "height": 51
        }
      },
      "source": [
        "np.zeros([2,3])"
      ],
      "execution_count": 0,
      "outputs": [
        {
          "output_type": "execute_result",
          "data": {
            "text/plain": [
              "array([[0., 0., 0.],\n",
              "       [0., 0., 0.]])"
            ]
          },
          "metadata": {
            "tags": []
          },
          "execution_count": 72
        }
      ]
    },
    {
      "cell_type": "markdown",
      "metadata": {
        "id": "tTkEEe0Y2deT",
        "colab_type": "text"
      },
      "source": [
        "###Create matrix of ones"
      ]
    },
    {
      "cell_type": "code",
      "metadata": {
        "id": "jmPxNFSI2Yze",
        "colab_type": "code",
        "outputId": "27db3800-beb7-4f45-ecc7-7a2019a64dac",
        "colab": {
          "base_uri": "https://localhost:8080/",
          "height": 102
        }
      },
      "source": [
        "np.ones([5,5])"
      ],
      "execution_count": 0,
      "outputs": [
        {
          "output_type": "execute_result",
          "data": {
            "text/plain": [
              "array([[1., 1., 1., 1., 1.],\n",
              "       [1., 1., 1., 1., 1.],\n",
              "       [1., 1., 1., 1., 1.],\n",
              "       [1., 1., 1., 1., 1.],\n",
              "       [1., 1., 1., 1., 1.]])"
            ]
          },
          "metadata": {
            "tags": []
          },
          "execution_count": 73
        }
      ]
    },
    {
      "cell_type": "markdown",
      "metadata": {
        "id": "TvWMxV7X2rws",
        "colab_type": "text"
      },
      "source": [
        "##Generate Eye Matrix & Empty Matrix\n",
        "###Create Eye Matrix"
      ]
    },
    {
      "cell_type": "code",
      "metadata": {
        "id": "9N7bFY7d2jOK",
        "colab_type": "code",
        "outputId": "f675b5f6-7cb4-42b6-b3f4-9e68abd6a855",
        "colab": {
          "base_uri": "https://localhost:8080/",
          "height": 102
        }
      },
      "source": [
        "np.eye(5)"
      ],
      "execution_count": 0,
      "outputs": [
        {
          "output_type": "execute_result",
          "data": {
            "text/plain": [
              "array([[1., 0., 0., 0., 0.],\n",
              "       [0., 1., 0., 0., 0.],\n",
              "       [0., 0., 1., 0., 0.],\n",
              "       [0., 0., 0., 1., 0.],\n",
              "       [0., 0., 0., 0., 1.]])"
            ]
          },
          "metadata": {
            "tags": []
          },
          "execution_count": 83
        }
      ]
    },
    {
      "cell_type": "markdown",
      "metadata": {
        "id": "fxQVRjpw26WU",
        "colab_type": "text"
      },
      "source": [
        "###Create Empty Matrix"
      ]
    },
    {
      "cell_type": "code",
      "metadata": {
        "id": "Mi4HQ4k624QZ",
        "colab_type": "code",
        "outputId": "d8b9b8c8-7987-42f2-8fb7-a0831184b1cf",
        "colab": {
          "base_uri": "https://localhost:8080/",
          "height": 102
        }
      },
      "source": [
        "np.empty([5,5])"
      ],
      "execution_count": 0,
      "outputs": [
        {
          "output_type": "execute_result",
          "data": {
            "text/plain": [
              "array([[0.64027648, 0.5014779 , 0.00889038, 0.26158364, 0.54681616],\n",
              "       [0.8181239 , 0.96680958, 0.5741281 , 0.68257734, 0.64412458],\n",
              "       [0.45834153, 0.62866989, 0.17997859, 0.17044233, 0.72653551],\n",
              "       [0.1816709 , 0.24555845, 0.37908744, 0.80638232, 0.57647162],\n",
              "       [0.47864569, 0.34261392, 0.41012853, 0.91055761, 0.12707672]])"
            ]
          },
          "metadata": {
            "tags": []
          },
          "execution_count": 85
        }
      ]
    },
    {
      "cell_type": "markdown",
      "metadata": {
        "id": "cTnozSnJ3Y2e",
        "colab_type": "text"
      },
      "source": [
        "##Generate Random Matrix\n",
        "###Random matrix of size =(5,5)"
      ]
    },
    {
      "cell_type": "code",
      "metadata": {
        "id": "AnNJM1WP3AKZ",
        "colab_type": "code",
        "outputId": "2ab38e2f-0c50-4e3e-d024-4384b9bfe945",
        "colab": {
          "base_uri": "https://localhost:8080/",
          "height": 102
        }
      },
      "source": [
        "np.random.rand(5,5)"
      ],
      "execution_count": 0,
      "outputs": [
        {
          "output_type": "execute_result",
          "data": {
            "text/plain": [
              "array([[0.64027648, 0.5014779 , 0.00889038, 0.26158364, 0.54681616],\n",
              "       [0.8181239 , 0.96680958, 0.5741281 , 0.68257734, 0.64412458],\n",
              "       [0.45834153, 0.62866989, 0.17997859, 0.17044233, 0.72653551],\n",
              "       [0.1816709 , 0.24555845, 0.37908744, 0.80638232, 0.57647162],\n",
              "       [0.47864569, 0.34261392, 0.41012853, 0.91055761, 0.12707672]])"
            ]
          },
          "metadata": {
            "tags": []
          },
          "execution_count": 84
        }
      ]
    },
    {
      "cell_type": "markdown",
      "metadata": {
        "id": "3qvwItyZ321Q",
        "colab_type": "text"
      },
      "source": [
        "Random matrix of size = 3,3 having value between 0 to 4"
      ]
    },
    {
      "cell_type": "code",
      "metadata": {
        "id": "QGIZHvnp3vPX",
        "colab_type": "code",
        "outputId": "6f838455-01a4-4eb3-a493-32b6a2b17ec8",
        "colab": {
          "base_uri": "https://localhost:8080/",
          "height": 68
        }
      },
      "source": [
        "np.random.randint(5,size = (3,3))"
      ],
      "execution_count": 0,
      "outputs": [
        {
          "output_type": "execute_result",
          "data": {
            "text/plain": [
              "array([[3, 3, 2],\n",
              "       [3, 4, 2],\n",
              "       [2, 1, 2]])"
            ]
          },
          "metadata": {
            "tags": []
          },
          "execution_count": 88
        }
      ]
    },
    {
      "cell_type": "markdown",
      "metadata": {
        "id": "whtbyPSs4XVV",
        "colab_type": "text"
      },
      "source": [
        "##Random vs. Random Normal Distribution\n",
        "###Uniform Random Distribution vs. Normal Distribution"
      ]
    },
    {
      "cell_type": "code",
      "metadata": {
        "id": "6IP4TeIR4B3K",
        "colab_type": "code",
        "outputId": "90559378-5620-4eec-b522-0410a655088a",
        "colab": {
          "base_uri": "https://localhost:8080/",
          "height": 215
        }
      },
      "source": [
        "import matplotlib.pyplot as plt\n",
        "fig, axes = plt.subplots(1,2,figsize=(8,3))\n",
        "axes[0].hist(np.random.rand(1000))\n",
        "axes[1].hist(np.random.randn(1000))\n",
        "plt.show()"
      ],
      "execution_count": 0,
      "outputs": [
        {
          "output_type": "display_data",
          "data": {
            "image/png": "[encoded data removed]",
            "text/plain": [
              "<Figure size 576x216 with 2 Axes>"
            ]
          },
          "metadata": {
            "tags": []
          }
        }
      ]
    },
    {
      "cell_type": "markdown",
      "metadata": {
        "id": "6iEQ4ppK5DCP",
        "colab_type": "text"
      },
      "source": [
        "##Sampling data\n",
        "###Randomly choose 3 number range from 0 to 4"
      ]
    },
    {
      "cell_type": "code",
      "metadata": {
        "id": "CfdPPD-O47cg",
        "colab_type": "code",
        "outputId": "7fa8b0b3-ba9d-40d7-e16e-ba5cb98474ae",
        "colab": {
          "base_uri": "https://localhost:8080/",
          "height": 34
        }
      },
      "source": [
        "np.random.choice(5,3,replace = False)"
      ],
      "execution_count": 0,
      "outputs": [
        {
          "output_type": "execute_result",
          "data": {
            "text/plain": [
              "array([0, 3, 1])"
            ]
          },
          "metadata": {
            "tags": []
          },
          "execution_count": 92
        }
      ]
    },
    {
      "cell_type": "markdown",
      "metadata": {
        "id": "0u_J3gXp5dv7",
        "colab_type": "text"
      },
      "source": [
        "###Randomly choose 3 row from 0 to 4 into new matrix"
      ]
    },
    {
      "cell_type": "code",
      "metadata": {
        "id": "k-hQFNvo5OZq",
        "colab_type": "code",
        "outputId": "ec8ef747-fd6f-4a84-acad-77ea90ecc19b",
        "colab": {
          "base_uri": "https://localhost:8080/",
          "height": 68
        }
      },
      "source": [
        "np_matrix = np.random.rand(5,5)\n",
        "idx_choose = np.random.choice(5,3,replace = False)\n",
        "np_matrix_choose = np_matrix[idx_choose,:]\n",
        "np_matrix_choose\n",
        "                         "
      ],
      "execution_count": 0,
      "outputs": [
        {
          "output_type": "execute_result",
          "data": {
            "text/plain": [
              "array([[0.42914849, 0.28907792, 0.01364784, 0.18729282, 0.28677552],\n",
              "       [0.53713612, 0.20084688, 0.06838622, 0.81649224, 0.22925468],\n",
              "       [0.25933963, 0.48716641, 0.42450943, 0.30977701, 0.73927899]])"
            ]
          },
          "metadata": {
            "tags": []
          },
          "execution_count": 106
        }
      ]
    },
    {
      "cell_type": "markdown",
      "metadata": {
        "id": "_Dgde-sS6I6t",
        "colab_type": "text"
      },
      "source": [
        "#EX.1"
      ]
    },
    {
      "cell_type": "code",
      "metadata": {
        "id": "m1eKVLdx6FGc",
        "colab_type": "code",
        "outputId": "f33c9ac4-c95c-46ce-f788-9595aa1570e8",
        "colab": {
          "base_uri": "https://localhost:8080/",
          "height": 187
        }
      },
      "source": [
        "a=np.random.rand(10,5)\n",
        "b=np.random.randint(2,size=(10))\n",
        "a[:,4] = b\n",
        "a"
      ],
      "execution_count": 0,
      "outputs": [
        {
          "output_type": "execute_result",
          "data": {
            "text/plain": [
              "array([[0.83058838, 0.71433803, 0.33733009, 0.97270732, 0.        ],\n",
              "       [0.74879104, 0.40098921, 0.06565159, 0.12602163, 1.        ],\n",
              "       [0.77669614, 0.15786547, 0.5165422 , 0.1936572 , 0.        ],\n",
              "       [0.15134496, 0.44962512, 0.26591149, 0.78237692, 0.        ],\n",
              "       [0.14843848, 0.66574799, 0.58785947, 0.80494389, 0.        ],\n",
              "       [0.25788936, 0.37974977, 0.28359312, 0.56541429, 0.        ],\n",
              "       [0.74922134, 0.65540385, 0.49945774, 0.94503504, 1.        ],\n",
              "       [0.54257915, 0.46307821, 0.26618098, 0.87289787, 0.        ],\n",
              "       [0.67579369, 0.94696689, 0.54272635, 0.84008875, 0.        ],\n",
              "       [0.25978903, 0.67635986, 0.156138  , 0.84334688, 1.        ]])"
            ]
          },
          "metadata": {
            "tags": []
          },
          "execution_count": 123
        }
      ]
    },
    {
      "cell_type": "markdown",
      "metadata": {
        "id": "QGn35GUaCQzJ",
        "colab_type": "text"
      },
      "source": [
        "##Delete row or column from matrix\n",
        "###Create maritx of size (5,5) contains value from 0 to 10"
      ]
    },
    {
      "cell_type": "code",
      "metadata": {
        "id": "SD3QB1TV6WvD",
        "colab_type": "code",
        "outputId": "acd53283-41f6-4652-ac93-d92618e531a3",
        "colab": {
          "base_uri": "https://localhost:8080/",
          "height": 102
        }
      },
      "source": [
        "np_matrix = np.random.randint(11,size = (5,5))\n",
        "np_matrix"
      ],
      "execution_count": 0,
      "outputs": [
        {
          "output_type": "execute_result",
          "data": {
            "text/plain": [
              "array([[ 1,  8,  0,  4,  3],\n",
              "       [ 7,  7,  2,  1,  7],\n",
              "       [ 5, 10,  5,  9,  8],\n",
              "       [ 5,  9,  7,  4,  5],\n",
              "       [ 5,  1,  8,  0,  3]])"
            ]
          },
          "metadata": {
            "tags": []
          },
          "execution_count": 124
        }
      ]
    },
    {
      "cell_type": "markdown",
      "metadata": {
        "id": "FOkKSuwFCitm",
        "colab_type": "text"
      },
      "source": [
        "##Delete rows 2 and 3 from this matrix"
      ]
    },
    {
      "cell_type": "code",
      "metadata": {
        "id": "yFVG_ue_ChiR",
        "colab_type": "code",
        "outputId": "122588fd-be63-4a58-c603-52cf9c858f6b",
        "colab": {
          "base_uri": "https://localhost:8080/",
          "height": 68
        }
      },
      "source": [
        "np_matrix = np.delete(np_matrix,[1,2],0)\n",
        "np_matrix"
      ],
      "execution_count": 0,
      "outputs": [
        {
          "output_type": "execute_result",
          "data": {
            "text/plain": [
              "array([[1, 8, 0, 4, 3],\n",
              "       [5, 9, 7, 4, 5],\n",
              "       [5, 1, 8, 0, 3]])"
            ]
          },
          "metadata": {
            "tags": []
          },
          "execution_count": 125
        }
      ]
    },
    {
      "cell_type": "markdown",
      "metadata": {
        "id": "xHLCMUdCC0Of",
        "colab_type": "text"
      },
      "source": [
        "##Find elements in matrix\n",
        "###Create maritx of size (5,5) contains value from 0 to 2"
      ]
    },
    {
      "cell_type": "code",
      "metadata": {
        "id": "gbSAq7w2CtKz",
        "colab_type": "code",
        "outputId": "dc6ad21c-f6bf-4ee2-b7fa-d0a7422a384b",
        "colab": {
          "base_uri": "https://localhost:8080/",
          "height": 102
        }
      },
      "source": [
        "np_matrix = np.random.randint(3,size = (5,5))\n",
        "np_matrix"
      ],
      "execution_count": 0,
      "outputs": [
        {
          "output_type": "execute_result",
          "data": {
            "text/plain": [
              "array([[1, 0, 0, 2, 2],\n",
              "       [2, 0, 2, 1, 0],\n",
              "       [0, 1, 0, 1, 2],\n",
              "       [1, 1, 1, 0, 2],\n",
              "       [0, 0, 2, 2, 1]])"
            ]
          },
          "metadata": {
            "tags": []
          },
          "execution_count": 128
        }
      ]
    },
    {
      "cell_type": "markdown",
      "metadata": {
        "id": "AFuoR0WlDaW8",
        "colab_type": "text"
      },
      "source": [
        "###Find index of 2 from matix"
      ]
    },
    {
      "cell_type": "code",
      "metadata": {
        "id": "GevoGOMaDTik",
        "colab_type": "code",
        "outputId": "d31d2767-e21a-43c5-8710-f83241f8fc5a",
        "colab": {
          "base_uri": "https://localhost:8080/",
          "height": 34
        }
      },
      "source": [
        "result = np.where(np_matrix == 2)\n",
        "result"
      ],
      "execution_count": 0,
      "outputs": [
        {
          "output_type": "execute_result",
          "data": {
            "text/plain": [
              "(array([0, 0, 1, 1, 2, 3, 4, 4]), array([3, 4, 0, 2, 4, 4, 2, 3]))"
            ]
          },
          "metadata": {
            "tags": []
          },
          "execution_count": 129
        }
      ]
    },
    {
      "cell_type": "markdown",
      "metadata": {
        "id": "l78brdNzEH5I",
        "colab_type": "text"
      },
      "source": [
        "##Find elements in matrix\n",
        "###Another way"
      ]
    },
    {
      "cell_type": "code",
      "metadata": {
        "id": "ZDOW-307Djh0",
        "colab_type": "code",
        "outputId": "774b9754-227f-4b52-8397-eb14e5c004dd",
        "colab": {
          "base_uri": "https://localhost:8080/",
          "height": 102
        }
      },
      "source": [
        "result = (np_matrix==2)\n",
        "result"
      ],
      "execution_count": 0,
      "outputs": [
        {
          "output_type": "execute_result",
          "data": {
            "text/plain": [
              "array([[False, False, False,  True,  True],\n",
              "       [ True, False,  True, False, False],\n",
              "       [False, False, False, False,  True],\n",
              "       [False, False, False, False,  True],\n",
              "       [False, False,  True,  True, False]])"
            ]
          },
          "metadata": {
            "tags": []
          },
          "execution_count": 130
        }
      ]
    },
    {
      "cell_type": "markdown",
      "metadata": {
        "id": "KPKPEoiKEZ_Y",
        "colab_type": "text"
      },
      "source": [
        "##Find and Replace Values\n",
        "###Use to replace values"
      ]
    },
    {
      "cell_type": "code",
      "metadata": {
        "id": "cf3UW6G1EUgT",
        "colab_type": "code",
        "outputId": "fe365d4f-2dd6-4157-8812-e5eebc3ec3fa",
        "colab": {
          "base_uri": "https://localhost:8080/",
          "height": 102
        }
      },
      "source": [
        "np_matrix[result]=99\n",
        "np_matrix"
      ],
      "execution_count": 0,
      "outputs": [
        {
          "output_type": "execute_result",
          "data": {
            "text/plain": [
              "array([[ 1,  0,  0, 99, 99],\n",
              "       [99,  0, 99,  1,  0],\n",
              "       [ 0,  1,  0,  1, 99],\n",
              "       [ 1,  1,  1,  0, 99],\n",
              "       [ 0,  0, 99, 99,  1]])"
            ]
          },
          "metadata": {
            "tags": []
          },
          "execution_count": 131
        }
      ]
    },
    {
      "cell_type": "markdown",
      "metadata": {
        "id": "_3cD91LVEqdT",
        "colab_type": "text"
      },
      "source": [
        "#EX.2"
      ]
    },
    {
      "cell_type": "code",
      "metadata": {
        "id": "IE1-wagREk3M",
        "colab_type": "code",
        "outputId": "ffd39fd6-c30a-494d-f35a-0fb04239100f",
        "colab": {
          "base_uri": "https://localhost:8080/",
          "height": 187
        }
      },
      "source": [
        "np_matrix = np.random.rand(10,5)\n",
        "np_matrix"
      ],
      "execution_count": 0,
      "outputs": [
        {
          "output_type": "execute_result",
          "data": {
            "text/plain": [
              "array([[0.7074306 , 0.98966525, 0.60077222, 0.44988269, 0.98373797],\n",
              "       [0.47643825, 0.8647458 , 0.72213144, 0.63943348, 0.39549614],\n",
              "       [0.80927699, 0.97491682, 0.23093447, 0.15563544, 0.12524225],\n",
              "       [0.10962906, 0.84997582, 0.37362679, 0.4606729 , 0.16265433],\n",
              "       [0.97711654, 0.97258534, 0.54441053, 0.56023059, 0.37567311],\n",
              "       [0.63085692, 0.27722196, 0.63721872, 0.50635851, 0.45696263],\n",
              "       [0.19679517, 0.89745076, 0.22772753, 0.54140589, 0.61138947],\n",
              "       [0.13109453, 0.3607432 , 0.47891067, 0.53430982, 0.5689385 ],\n",
              "       [0.77167512, 0.6426138 , 0.56151526, 0.71493645, 0.28164365],\n",
              "       [0.07672859, 0.43065799, 0.24673966, 0.01629024, 0.84024829]])"
            ]
          },
          "metadata": {
            "tags": []
          },
          "execution_count": 156
        }
      ]
    },
    {
      "cell_type": "code",
      "metadata": {
        "id": "SyGpeCr4Fzgd",
        "colab_type": "code",
        "outputId": "747ac107-4a5d-4a5a-dac2-c30e3b482d42",
        "colab": {
          "base_uri": "https://localhost:8080/",
          "height": 34
        }
      },
      "source": [
        "a=np.random.randint(3,size=10)\n",
        "a"
      ],
      "execution_count": 0,
      "outputs": [
        {
          "output_type": "execute_result",
          "data": {
            "text/plain": [
              "array([0, 2, 1, 0, 2, 1, 2, 2, 0, 1])"
            ]
          },
          "metadata": {
            "tags": []
          },
          "execution_count": 157
        }
      ]
    },
    {
      "cell_type": "code",
      "metadata": {
        "id": "Eg6jp08_G6fP",
        "colab_type": "code",
        "outputId": "3a23f770-db7c-44ea-fd6f-afff5ac231c7",
        "colab": {
          "base_uri": "https://localhost:8080/",
          "height": 34
        }
      },
      "source": [
        "result = np.where(a == 2)\n",
        "result"
      ],
      "execution_count": 0,
      "outputs": [
        {
          "output_type": "execute_result",
          "data": {
            "text/plain": [
              "(array([1, 4, 6, 7]),)"
            ]
          },
          "metadata": {
            "tags": []
          },
          "execution_count": 158
        }
      ]
    },
    {
      "cell_type": "code",
      "metadata": {
        "id": "twbDjQkSHM5t",
        "colab_type": "code",
        "outputId": "b192640c-6cb2-4a32-b5ac-235d330ed831",
        "colab": {
          "base_uri": "https://localhost:8080/",
          "height": 85
        }
      },
      "source": [
        "np_matrix=np_matrix[result]\n",
        "np_matrix"
      ],
      "execution_count": 0,
      "outputs": [
        {
          "output_type": "execute_result",
          "data": {
            "text/plain": [
              "array([[0.47643825, 0.8647458 , 0.72213144, 0.63943348, 0.39549614],\n",
              "       [0.97711654, 0.97258534, 0.54441053, 0.56023059, 0.37567311],\n",
              "       [0.19679517, 0.89745076, 0.22772753, 0.54140589, 0.61138947],\n",
              "       [0.13109453, 0.3607432 , 0.47891067, 0.53430982, 0.5689385 ]])"
            ]
          },
          "metadata": {
            "tags": []
          },
          "execution_count": 159
        }
      ]
    },
    {
      "cell_type": "markdown",
      "metadata": {
        "id": "nnGUvW0FmUyu",
        "colab_type": "text"
      },
      "source": [
        "#EX.3\n"
      ]
    },
    {
      "cell_type": "code",
      "metadata": {
        "id": "2_kLUz6MH2Lq",
        "colab_type": "code",
        "colab": {
          "base_uri": "https://localhost:8080/",
          "height": 286
        },
        "outputId": "7028cf4c-7638-44e2-fa77-c56fc2781650"
      },
      "source": [
        "import matplotlib.pyplot as plt\n",
        "x=np.arange(0,12,0.1)\n",
        "y=np.cos(x)\n",
        "plt.plot (x,y)"
      ],
      "execution_count": 7,
      "outputs": [
        {
          "output_type": "execute_result",
          "data": {
            "text/plain": [
              "[<matplotlib.lines.Line2D at 0x7f747f654a90>]"
            ]
          },
          "metadata": {
            "tags": []
          },
          "execution_count": 7
        },
        {
          "output_type": "display_data",
          "data": {
            "image/png": "[encoded data removed]",
            "text/plain": [
              "<Figure size 432x288 with 1 Axes>"
            ]
          },
          "metadata": {
            "tags": []
          }
        }
      ]
    },
    {
      "cell_type": "markdown",
      "metadata": {
        "id": "Cad3Kvubmaxc",
        "colab_type": "text"
      },
      "source": [
        "#EX.4 \n",
        "Select matching elements off input"
      ]
    },
    {
      "cell_type": "code",
      "metadata": {
        "id": "mqsN3SeXmdyf",
        "colab_type": "code",
        "colab": {
          "base_uri": "https://localhost:8080/",
          "height": 34
        },
        "outputId": "edfc2562-f814-4613-af2e-f7dec7f94728"
      },
      "source": [
        "import numpy as np\n",
        "np_test=np.arange(25).reshape(5,5)\n",
        "np_test[np_test%3==0]"
      ],
      "execution_count": 25,
      "outputs": [
        {
          "output_type": "execute_result",
          "data": {
            "text/plain": [
              "array([ 0,  3,  6,  9, 12, 15, 18, 21, 24])"
            ]
          },
          "metadata": {
            "tags": []
          },
          "execution_count": 25
        }
      ]
    },
    {
      "cell_type": "markdown",
      "metadata": {
        "id": "Ss6ie_XRmieO",
        "colab_type": "text"
      },
      "source": [
        "#EX.5 google"
      ]
    },
    {
      "cell_type": "code",
      "metadata": {
        "id": "RInaioGCmkR7",
        "colab_type": "code",
        "colab": {
          "base_uri": "https://localhost:8080/",
          "height": 102
        },
        "outputId": "28c4b373-02de-49ce-bef4-87965591cf6d"
      },
      "source": [
        "np_test=np.arange(25).reshape(5,5)\n",
        "np.fill_diagonal(np_test,0)\n",
        "np_test"
      ],
      "execution_count": 8,
      "outputs": [
        {
          "output_type": "execute_result",
          "data": {
            "text/plain": [
              "array([[ 0,  1,  2,  3,  4],\n",
              "       [ 5,  0,  7,  8,  9],\n",
              "       [10, 11,  0, 13, 14],\n",
              "       [15, 16, 17,  0, 19],\n",
              "       [20, 21, 22, 23,  0]])"
            ]
          },
          "metadata": {
            "tags": []
          },
          "execution_count": 8
        }
      ]
    },
    {
      "cell_type": "markdown",
      "metadata": {
        "id": "5P7GDgI4wlyv",
        "colab_type": "text"
      },
      "source": [
        "# Load Titanic Data\n",
        "Load titinic data from github"
      ]
    },
    {
      "cell_type": "code",
      "metadata": {
        "id": "By5gqWS9pTny",
        "colab_type": "code",
        "colab": {
          "base_uri": "https://localhost:8080/",
          "height": 316
        },
        "outputId": "0e6eab86-4886-4baf-a907-46cbb673b8bb"
      },
      "source": [
        "import padas as pd\n",
        "titanics = pd.read_excel('https://github.com/Colejoby/DW/blob/master/titanic.xlsx')"
      ],
      "execution_count": 19,
      "outputs": [
        {
          "output_type": "error",
          "ename": "ModuleNotFoundError",
          "evalue": "ignored",
          "traceback": [
            "\u001b[0;31m---------------------------------------------------------------------------\u001b[0m",
            "\u001b[0;31mModuleNotFoundError\u001b[0m                       Traceback (most recent call last)",
            "\u001b[0;32m<ipython-input-19-12fc6b42ce2d>\u001b[0m in \u001b[0;36m<module>\u001b[0;34m()\u001b[0m\n\u001b[0;32m----> 1\u001b[0;31m \u001b[0;32mimport\u001b[0m \u001b[0mpadas\u001b[0m \u001b[0;32mas\u001b[0m \u001b[0mpd\u001b[0m\u001b[0;34m\u001b[0m\u001b[0;34m\u001b[0m\u001b[0m\n\u001b[0m\u001b[1;32m      2\u001b[0m \u001b[0mtitanics\u001b[0m \u001b[0;34m=\u001b[0m \u001b[0mpd\u001b[0m\u001b[0;34m.\u001b[0m\u001b[0mread_excel\u001b[0m\u001b[0;34m(\u001b[0m\u001b[0;34m'https://github.com/Colejoby/DW/blob/master/titanic.xlsx'\u001b[0m\u001b[0;34m)\u001b[0m\u001b[0;34m\u001b[0m\u001b[0;34m\u001b[0m\u001b[0m\n",
            "\u001b[0;31mModuleNotFoundError\u001b[0m: No module named 'padas'",
            "",
            "\u001b[0;31m---------------------------------------------------------------------------\u001b[0;32m\nNOTE: If your import is failing due to a missing package, you can\nmanually install dependencies using either !pip or !apt.\n\nTo view examples of installing some common dependencies, click the\n\"Open Examples\" button below.\n\u001b[0;31m---------------------------------------------------------------------------\u001b[0m\n"
          ]
        }
      ]
    },
    {
      "cell_type": "code",
      "metadata": {
        "id": "SyunQBHSw5aB",
        "colab_type": "code",
        "colab": {}
      },
      "source": [
        ""
      ],
      "execution_count": 0,
      "outputs": []
    }
  ]
}